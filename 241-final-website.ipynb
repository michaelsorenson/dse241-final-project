{
 "cells": [
  {
   "cell_type": "markdown",
   "metadata": {},
   "source": [
    "## Sample types:\n",
    "### 'Surf' IQR: 10-10 m\n",
    "### 'DCM' IQR: 30-75 m\n",
    "### 515: 515 m\n",
    "### 170: 170 m"
   ]
  },
  {
   "cell_type": "code",
   "execution_count": 1,
   "metadata": {},
   "outputs": [],
   "source": [
    "import pandas as pd\n",
    "import numpy as np\n",
    "import plotly_utils as pu\n",
    "import plotly.express as px\n",
    "import plotly.graph_objs as go\n",
    "import dash\n",
    "from dash import dcc, html\n",
    "from dash.dependencies import Input, Output\n",
    "import dash_bootstrap_components as dbc\n",
    "import os\n",
    "from dotenv import load_dotenv\n",
    "load_dotenv()\n",
    "px.set_mapbox_access_token(os.getenv('MAPBOX_ACCESS_TOKEN'))\n"
   ]
  },
  {
   "cell_type": "code",
   "execution_count": 2,
   "metadata": {},
   "outputs": [],
   "source": [
    "%load_ext autoreload"
   ]
  },
  {
   "cell_type": "code",
   "execution_count": 3,
   "metadata": {},
   "outputs": [],
   "source": [
    "%autoreload 2"
   ]
  },
  {
   "cell_type": "code",
   "execution_count": 4,
   "metadata": {},
   "outputs": [],
   "source": [
    "# Load data\n",
    "data_16S = pd.read_csv('NCOG_21_16S_redo2_asv_count_tax.tsv', sep='\\t')\n",
    "data_18Sv4 = pd.read_csv('NCOG_18sV4_asv_count_tax.tsv', sep='\\t')\n",
    "data_18Sv9 = pd.read_csv('NCOG_18sV9_asv_count_tax_S.tsv', sep='\\t')\n",
    "data_meta = pd.read_csv('NCOG_sample_log_DNA_stvx_meta_2014-2020_mod.tsv', sep='\\t')\n",
    "\n",
    "# Lat and Lon center for plots\n",
    "cal_coast_center = dict(\n",
    "    lat=np.mean([min(data_meta['Lat_Dec']), max(data_meta['Lat_Dec'])]),\n",
    "    lon=np.mean([min(data_meta['Lon_Dec']), max(data_meta['Lon_Dec'])])\n",
    ")\n",
    "\n",
    "# Environmental variables and sample types\n",
    "env_var_cols = ['T_degC', 'Salnty', 'O2ml_L', 'PO4ug', 'SiO3ug', 'NO3ug', 'NH3ug', 'ChlorA', 'IntC14', 'NCDepth']\n",
    "sample_type_vals = data_meta['sample_type'].dropna().unique()\n",
    "\n",
    "# Add X before metadata sampleids to match 16S and 18S sample ids\n",
    "data_meta['sampleid'] = data_meta['sampleid'].apply(lambda x: 'X' + x)\n"
   ]
  },
  {
   "cell_type": "code",
   "execution_count": 11,
   "metadata": {},
   "outputs": [],
   "source": [
    "# precompute map figures for different sample types and environmental variables\n",
    "map_figs = pu.precompute_map_figs(data_meta)\n"
   ]
  },
  {
   "cell_type": "code",
   "execution_count": 12,
   "metadata": {},
   "outputs": [
    {
     "name": "stdout",
     "output_type": "stream",
     "text": [
      "Pre-computing 1092 Sunburst Figures\n",
      "Finished: 100.00%\n"
     ]
    }
   ],
   "source": [
    "# precompute sunburst figures\n",
    "sunburst_figs = pu.precompute_sunburst_figs(data_meta, data_16S, data_18Sv4, data_18Sv9)\n"
   ]
  },
  {
   "cell_type": "code",
   "execution_count": 13,
   "metadata": {},
   "outputs": [
    {
     "name": "stdout",
     "output_type": "stream",
     "text": [
      "Pre-computing 273 Stacked Bar Figures\n",
      "Finished: 100.00%\r"
     ]
    }
   ],
   "source": [
    "# precompute stacked bar figures\n",
    "stacked_bar_figs = pu.precompute_stacked_bar_figs(data_meta, data_16S, data_18Sv4, data_18Sv9)\n"
   ]
  },
  {
   "cell_type": "code",
   "execution_count": 21,
   "metadata": {},
   "outputs": [
    {
     "data": {
      "text/html": [
       "\n",
       "        <iframe\n",
       "            width=\"100%\"\n",
       "            height=\"650\"\n",
       "            src=\"http://0.0.0.0:8099/\"\n",
       "            frameborder=\"0\"\n",
       "            allowfullscreen\n",
       "            \n",
       "        ></iframe>\n",
       "        "
      ],
      "text/plain": [
       "<IPython.lib.display.IFrame at 0x2b8f7d690>"
      ]
     },
     "metadata": {},
     "output_type": "display_data"
    },
    {
     "name": "stdout",
     "output_type": "stream",
     "text": [
      "\n"
     ]
    }
   ],
   "source": [
    "def build_app(app):\n",
    "    app.layout = dbc.Container([\n",
    "        html.H1(\"Marine microbial life at California coastal stations\", className=\"mt-4 mb-4\"),\n",
    "        dbc.Row([\n",
    "            dbc.Col([\n",
    "                dbc.Card(\n",
    "                    dbc.CardBody([\n",
    "                        html.Div([\n",
    "                            html.Label('Sample Type:'),\n",
    "                            dcc.Dropdown(sample_type_vals, sample_type_vals[0], id='sample-type-dropdown')\n",
    "                        ])\n",
    "                    ])\n",
    "                )\n",
    "            ], width=11.5)\n",
    "        ]),\n",
    "        dbc.Row([\n",
    "            dbc.Col([\n",
    "                dbc.Card(\n",
    "                    dbc.CardBody([\n",
    "                        html.Div([\n",
    "                            html.Label('Environmental Variable (Color):'),\n",
    "                            dcc.Dropdown(env_var_cols, 'NCDepth', id='env-var-dropdown')\n",
    "                        ], className=\"env-var-dropdown\")\n",
    "                    ])\n",
    "                ),\n",
    "                dbc.Card(\n",
    "                    dbc.CardBody([\n",
    "                        html.Div([\n",
    "                            dcc.Graph(id='map-graph')\n",
    "                        ], className=\"map-graph\"),\n",
    "                    ])\n",
    "                ),\n",
    "                dbc.Card(\n",
    "                    dbc.CardBody([\n",
    "                        html.Div([\n",
    "                            html.Label('Circos Dataset:'),\n",
    "                            dcc.Dropdown(['16S & 18Sv4', '16S & 18Sv9'], '16S & 18Sv4', id='circos-dropdown')\n",
    "                        ]),\n",
    "                        html.Div(id='circos-container', style={'margin-top': '2vw'}),\n",
    "                    ])\n",
    "                ),\n",
    "            ], width=6),\n",
    "            dbc.Col([\n",
    "                dbc.Card(\n",
    "                    dbc.CardBody([\n",
    "                        html.Div([\n",
    "                            html.Label('Dataset:'),\n",
    "                            dcc.Dropdown(['16S', '18Sv4', '18Sv9'], '16S', id='dataset-dropdown')\n",
    "                        ]),\n",
    "                    ])\n",
    "                ),\n",
    "                dbc.Card(\n",
    "                    dbc.CardBody([\n",
    "                        html.Div([\n",
    "                            dcc.Graph(id='sunburst-graph')\n",
    "                        ]),\n",
    "                    ])\n",
    "                ),\n",
    "                dbc.Card(\n",
    "                    dbc.CardBody([\n",
    "                        html.Div([\n",
    "                            dcc.Graph(id='stacked-bar-graph')\n",
    "                        ])\n",
    "                    ])\n",
    "                )\n",
    "            ], width=6)\n",
    "        ])\n",
    "    ], fluid=True)\n",
    "\n",
    "\n",
    "    # Map graph dropdown callback\n",
    "    @app.callback(\n",
    "        Output('map-graph', 'figure'),\n",
    "        [Input('sample-type-dropdown', 'value'),\n",
    "        Input('env-var-dropdown', 'value')]\n",
    "    )\n",
    "    def update_map(dropdown_sample_type, dropdown_env_var):\n",
    "        return map_figs[dropdown_sample_type][dropdown_env_var].update_layout(\n",
    "            template='plotly_dark',\n",
    "            plot_bgcolor= 'rgba(0, 0, 0, 0)',\n",
    "            paper_bgcolor= 'rgba(0, 0, 0, 0)',\n",
    "            width=600,\n",
    "            height=600\n",
    "        )\n",
    "\n",
    "    # Map graph click data callback for sunburst\n",
    "    @app.callback(\n",
    "        Output('sunburst-graph', 'figure'),\n",
    "        [Input('sample-type-dropdown', 'value'),\n",
    "        Input('map-graph', 'clickData'),\n",
    "        Input('dataset-dropdown', 'value')]\n",
    "    )\n",
    "    def update_sunburst(dropdown_sample_type, click_data, dropdown_dataset):\n",
    "        if click_data is None:\n",
    "            station_id = data_meta['Sta_ID'].iloc[0]\n",
    "        # Get station ID from hover data\n",
    "        else:\n",
    "            if 'customdata' not in click_data['points'][0]:\n",
    "                station_id = station_id = data_meta['Sta_ID'].iloc[0]\n",
    "            else:\n",
    "                station_id = click_data['points'][0]['customdata'][0]\n",
    "        return sunburst_figs[station_id][dropdown_sample_type][dropdown_dataset].update_layout(\n",
    "            template='plotly_dark',\n",
    "            plot_bgcolor= 'rgba(0, 0, 0, 0)',\n",
    "            paper_bgcolor= 'rgba(0, 0, 0, 0)',\n",
    "            height=600,\n",
    "            width=600\n",
    "        )\n",
    "\n",
    "    # Stacked bar callback\n",
    "    @app.callback(\n",
    "        Output('stacked-bar-graph', 'figure'),\n",
    "        [Input('map-graph', 'clickData'),\n",
    "        Input('dataset-dropdown', 'value')]\n",
    "    )\n",
    "    def update_stacked_bar(click_data, dropdown_dataset):\n",
    "        if click_data is None:\n",
    "            station_id = data_meta['Sta_ID'].iloc[0]\n",
    "        # Get station ID from hover data\n",
    "        else:\n",
    "            if 'customdata' not in click_data['points'][0]:\n",
    "                station_id = station_id = data_meta['Sta_ID'].iloc[0]\n",
    "            else:\n",
    "                station_id = click_data['points'][0]['customdata'][0]\n",
    "        return stacked_bar_figs[station_id][dropdown_dataset].update_layout(\n",
    "            template='plotly_dark',\n",
    "            plot_bgcolor= 'rgba(0, 0, 0, 0)',\n",
    "            paper_bgcolor= 'rgba(0, 0, 0, 0)',\n",
    "            height=600,\n",
    "            width=600\n",
    "        )\n",
    "    @app.callback(\n",
    "        Output('circos-container', 'children'),\n",
    "        [Input('circos-dropdown', 'value')]\n",
    "    )\n",
    "    def update_circos(circos_dropdown):\n",
    "        if circos_dropdown == '16S & 18Sv4':\n",
    "            src_path = 'assets/NCOG_network_v4_chordDiagram_positive.png'\n",
    "        elif circos_dropdown == '16S & 18Sv9':\n",
    "            src_path = 'assets/NCOG_network_v9_chordDiagram_positive.png'\n",
    "        return html.Img(src=src_path, style={\n",
    "            'template':'plotly_dark',\n",
    "            'plot_bgcolor':'rgba(0, 0, 0, 0)',\n",
    "            'paper_bgcolor':'rgba(0, 0, 0, 0)',\n",
    "            'height':600,\n",
    "            'width':600\n",
    "        })\n",
    "if __name__ == '__main__':\n",
    "    app = dash.Dash(__name__, external_stylesheets=[dbc.themes.SLATE])\n",
    "    build_app(app)\n",
    "    app.run_server(host='0.0.0.0', port=8099)\n",
    "\n",
    "print()"
   ]
  },
  {
   "cell_type": "code",
   "execution_count": null,
   "metadata": {},
   "outputs": [],
   "source": []
  }
 ],
 "metadata": {
  "kernelspec": {
   "display_name": "Python 3 (ipykernel)",
   "language": "python",
   "name": "python3"
  },
  "language_info": {
   "codemirror_mode": {
    "name": "ipython",
    "version": 3
   },
   "file_extension": ".py",
   "mimetype": "text/x-python",
   "name": "python",
   "nbconvert_exporter": "python",
   "pygments_lexer": "ipython3",
   "version": "3.10.9"
  },
  "varInspector": {
   "cols": {
    "lenName": 16,
    "lenType": 16,
    "lenVar": 40
   },
   "kernels_config": {
    "python": {
     "delete_cmd_postfix": "",
     "delete_cmd_prefix": "del ",
     "library": "var_list.py",
     "varRefreshCmd": "print(var_dic_list())"
    },
    "r": {
     "delete_cmd_postfix": ") ",
     "delete_cmd_prefix": "rm(",
     "library": "var_list.r",
     "varRefreshCmd": "cat(var_dic_list()) "
    }
   },
   "types_to_exclude": [
    "module",
    "function",
    "builtin_function_or_method",
    "instance",
    "_Feature"
   ],
   "window_display": false
  }
 },
 "nbformat": 4,
 "nbformat_minor": 4
}
