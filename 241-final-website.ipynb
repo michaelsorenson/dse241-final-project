{
 "cells": [
  {
   "cell_type": "code",
   "execution_count": 1,
   "metadata": {},
   "outputs": [],
   "source": [
    "import pandas as pd"
   ]
  },
  {
   "cell_type": "code",
   "execution_count": 2,
   "metadata": {},
   "outputs": [],
   "source": [
    "data_16S = pd.read_csv('NCOG_21_16S_redo2_asv_count_tax.tsv', sep='\\t')\n",
    "data_18Sv4 = pd.read_csv('NCOG_18sV4_asv_count_tax.tsv', sep='\\t')\n",
    "data_18Sv9 = pd.read_csv('NCOG_18sV9_asv_count_tax_S.tsv', sep='\\t')\n",
    "data_meta = pd.read_csv('NCOG_sample_log_DNA_stvx_meta_2014-2020_mod.tsv', sep='\\t')\n",
    "data_meta['sampleid'] = data_meta['sampleid'].apply(lambda x: 'X' + x)"
   ]
  },
  {
   "cell_type": "code",
   "execution_count": 3,
   "metadata": {},
   "outputs": [
    {
     "data": {
      "text/plain": [
       "Surf    772\n",
       "DCM     702\n",
       "515       7\n",
       "170       5\n",
       "Name: sample_type, dtype: int64"
      ]
     },
     "execution_count": 3,
     "metadata": {},
     "output_type": "execute_result"
    }
   ],
   "source": [
    "data_meta['sample_type'].value_counts()"
   ]
  },
  {
   "cell_type": "code",
   "execution_count": 13,
   "metadata": {},
   "outputs": [
    {
     "data": {
      "text/plain": [
       "0        d__Bacteria; p__Proteobacteria; c__Gammaproteo...\n",
       "1        d__Bacteria; p__Proteobacteria; c__Gammaproteo...\n",
       "2        d__Bacteria; p__Proteobacteria; c__Alphaproteo...\n",
       "3        d__Bacteria; p__Proteobacteria; c__Alphaproteo...\n",
       "4        d__Bacteria; p__Bacteroidota; c__Bacteroidia; ...\n",
       "                               ...                        \n",
       "28904                                          d__Bacteria\n",
       "28905                                          d__Bacteria\n",
       "28906    d__Bacteria; p__Proteobacteria; c__Alphaproteo...\n",
       "28907    d__Bacteria; p__Bacteroidota; c__Bacteroidia; ...\n",
       "28908    d__Bacteria; p__Cyanobacteria; c__Cyanobacteri...\n",
       "Name: silva_Taxon, Length: 28909, dtype: object"
      ]
     },
     "execution_count": 13,
     "metadata": {},
     "output_type": "execute_result"
    }
   ],
   "source": [
    "data_16S['silva_Taxon']"
   ]
  },
  {
   "cell_type": "markdown",
   "metadata": {},
   "source": [
    "## Sample types:\n",
    "### 'Surf' IQR: 10-10 m\n",
    "### 'DCM' IQR: 30-75 m\n",
    "### 515: 515 m\n",
    "### 170: 170 m"
   ]
  },
  {
   "cell_type": "code",
   "execution_count": 96,
   "metadata": {},
   "outputs": [],
   "source": [
    "taxa_16S = data_16S['silva_Taxon'].str.split(';', expand=True).iloc[:, :8]\n",
    "taxa_16S.columns = ['Domain', 'Phylum', 'Class', 'Order', 'Family', 'Genus', 'Species']\n",
    "abundance_cols = pd.Series(data_16S.columns).apply(lambda x: True if x[:3] == 'X20' else False).values\n",
    "taxa_16S['abundance_values'] = data_16S.loc[:,abundance_cols].sum(axis=1)\n",
    "taxa_16S = taxa_16S.dropna(subset='Phylum').fillna('___Undetermined')\n",
    "for col in taxa_16S.columns:\n",
    "    if col != 'abundance_values':\n",
    "        taxa_16S[col] = taxa_16S[col].apply(lambda x: x[4:])\n",
    "top_10_phyla_16S = (\n",
    "    taxa_16S.groupby('Phylum')['abundance_values'].sum()\n",
    "    .sort_values(ascending=False).index.to_list()[:10]\n",
    ")\n",
    "\n",
    "colors_16S = {\n",
    "    top_10_phyla_16S[i]: px.colors.qualitative.Plotly[i] for i in range(10)\n",
    "}\n",
    "colors_16S['Undetermined'] = '#C0C0C0' # light grey\n",
    "colors_16S['Other'] = '#71797E' # dark grey\n",
    "\n",
    "\n",
    "# 18S -----------------------------------------------------------------------\n",
    "# show these classes separately from their parent phyla\n",
    "special_18S_classes = [('Dinoflagellata', 'Syndiniales'), ('Ochrophyta', 'Bacillariophyta')]\n",
    "\n",
    "# 18Sv4 ---------------------------------------------------------------------\n",
    "taxa_18Sv4 = data_18Sv4['pr2_Taxon'].str.split(';', expand=True).iloc[:, :8]\n",
    "taxa_18Sv4.columns = ['Kingdom', 'Domain', 'Phylum', 'Class', 'Order', 'Family', 'Genus', 'Species']\n",
    "abundance_cols = pd.Series(data_18Sv4.columns).apply(lambda x: True if x[:3] == 'X20' else False).values\n",
    "taxa_18Sv4['abundance_values'] = data_18Sv4.loc[:,abundance_cols].sum(axis=1)\n",
    "taxa_18Sv4 = taxa_18Sv4.dropna(subset='Phylum').fillna('Undetermined')\n",
    "top_8_phyla_18Sv4 = (\n",
    "    taxa_18Sv4.groupby('Phylum')['abundance_values'].sum()\n",
    "    .sort_values(ascending=False).index.to_list()[:8]\n",
    ")\n",
    "\n",
    "colors_18Sv4 = {\n",
    "    top_8_phyla_18Sv4[i]: px.colors.qualitative.Plotly[i] for i in range(8)\n",
    "}\n",
    "for i, (phylum, special_class) in enumerate(special_18S_classes):\n",
    "    colors_18Sv4[special_class] = px.colors.qualitative.Plotly[i + 8]\n",
    "colors_18Sv4['Undetermined'] = '#C0C0C0' # light grey\n",
    "colors_18Sv4['Other'] = '#71797E' # dark grey\n",
    "\n",
    "# 18Sv9 ---------------------------------------------------------------------\n",
    "taxa_18Sv9 = data_18Sv9['pr2_Taxon'].str.split(';', expand=True).iloc[:, :8]\n",
    "taxa_18Sv9.columns = ['Kingdom', 'Domain', 'Phylum', 'Class', 'Order', 'Family', 'Genus', 'Species']\n",
    "abundance_cols = pd.Series(data_18Sv9.columns).apply(lambda x: True if x[:3] == 'X20' else False).values\n",
    "taxa_18Sv9['abundance_values'] = data_18Sv9.loc[:,abundance_cols].sum(axis=1)\n",
    "taxa_18Sv9 = taxa_18Sv9.dropna(subset='Phylum').fillna('Undetermined')\n",
    "top_8_phyla_18Sv9 = (\n",
    "    taxa_18Sv9.groupby('Phylum')['abundance_values'].sum()\n",
    "    .sort_values(ascending=False).index.to_list()[:8]\n",
    ")\n",
    "\n",
    "colors_18Sv9 = {\n",
    "    top_8_phyla_18Sv9[i]: px.colors.qualitative.Plotly[i] for i in range(8)\n",
    "}\n",
    "for i, (phylum, special_class) in enumerate(special_18S_classes):\n",
    "    colors_18Sv9[special_class] = px.colors.qualitative.Plotly[i + 8]\n",
    "colors_18Sv9['Undetermined'] = '#C0C0C0' # light grey\n",
    "colors_18Sv9['Other'] = '#71797E' # dark grey\n",
    "\n",
    "colors_18Sv9 = colors_18Sv4 # the top 8 groups should match but I'll leave the code here just in case\n",
    "\n",
    "# for phylum in ['Dinoflagellata', 'Ochrophyta']:\n",
    "#     dino_ochro_classes = taxa_18Sv4[taxa_18Sv4['Phylum'] == phylum]['Class']\n",
    "#     dino_ochro_classes = dino_ochro_classes[dino_ochro_classes != 'Undetermined'].unique()\n",
    "#     special_classes.extend(dino_ochro_classes.tolist())\n",
    "# unique_phyla_18Sv4.extend(dino_ochro_children)\n",
    "# unique_phyla_18Sv4 = [x for x in unique_phyla_18Sv4 if x not in ['Dinoflagellata', 'Ochrophyta']]"
   ]
  },
  {
   "cell_type": "code",
   "execution_count": 9,
   "metadata": {},
   "outputs": [
    {
     "name": "stdout",
     "output_type": "stream",
     "text": [
      "Pre-computing 1092 Sunburst Figures\n",
      "Finished: 100.00%\n"
     ]
    }
   ],
   "source": [
    "import dash\n",
    "from dash import dcc, html\n",
    "from dash.dependencies import Input, Output\n",
    "import dash_bootstrap_components as dbc\n",
    "import plotly.graph_objs as go\n",
    "import pandas as pd\n",
    "import numpy as np\n",
    "import plotly.express as px\n",
    "import os\n",
    "import sys\n",
    "from dotenv import load_dotenv\n",
    "load_dotenv()\n",
    "\n",
    "px.set_mapbox_access_token(os.getenv('MAPBOX_ACCESS_TOKEN'))\n",
    "\n",
    "# Load data\n",
    "data_16S = pd.read_csv('NCOG_21_16S_redo2_asv_count_tax.tsv', sep='\\t')\n",
    "data_18Sv4 = pd.read_csv('NCOG_18sV4_asv_count_tax.tsv', sep='\\t')\n",
    "data_18Sv9 = pd.read_csv('NCOG_18sV9_asv_count_tax_S.tsv', sep='\\t')\n",
    "data_meta = pd.read_csv('NCOG_sample_log_DNA_stvx_meta_2014-2020_mod.tsv', sep='\\t')\n",
    "\n",
    "# Add X before metadata sampleids to match 16S and 18S sample ids\n",
    "data_meta['sampleid'] = data_meta['sampleid'].apply(lambda x: 'X' + x)\n",
    "\n",
    "# Lat and Lon center for plots\n",
    "cal_coast_center = dict(\n",
    "    lat=np.mean([min(data_meta['Lat_Dec']), max(data_meta['Lat_Dec'])]),\n",
    "    lon=np.mean([min(data_meta['Lon_Dec']), max(data_meta['Lon_Dec'])])\n",
    ")\n",
    "\n",
    "# Environmental variables and sample types\n",
    "env_var_cols = ['T_degC', 'Salnty', 'O2ml_L', 'PO4ug', 'SiO3ug', 'NO3ug', 'NH3ug', 'ChlorA', 'IntC14', 'NCDepth']\n",
    "sample_type_vals = data_meta['sample_type'].dropna().unique()\n",
    "\n",
    "# precompute map figures for different sample types and environmental variables\n",
    "map_figs = {sample_type: {} for sample_type in data_meta['sample_type'].dropna().unique()}\n",
    "for sample_type in data_meta['sample_type'].dropna().unique():\n",
    "    for env_var in env_var_cols:\n",
    "        meta_subset = data_meta[data_meta['sample_type'] == sample_type]\n",
    "        meta_subset = meta_subset[['Sta_ID', 'Lat_Dec', 'Lon_Dec', 'sample_type', env_var]].groupby('Sta_ID').agg({\n",
    "            'Lat_Dec': 'min',\n",
    "            'Lon_Dec': 'min',\n",
    "            'sample_type': 'count',\n",
    "            env_var: 'mean'\n",
    "        }).rename({'sample_type': 'Number of Samples'}, axis=1).reset_index()\n",
    "        hover_names = meta_subset['Sta_ID'].apply(lambda x: '<b>Station: </b>' + x)\n",
    "        subset_fig = px.scatter_mapbox(meta_subset, lat='Lat_Dec', lon='Lon_Dec', center=cal_coast_center,\n",
    "                                       color=env_var, hover_name=hover_names, hover_data='Number of Samples', #size=\"num_samples\",\n",
    "                                       color_continuous_scale='viridis', size_max=15, zoom=4.5, mapbox_style='outdoors',\n",
    "                                       width=600, height=700, custom_data='Sta_ID')\n",
    "        map_figs[sample_type][env_var] = subset_fig\n",
    "\n",
    "# empty sunburst figure for if the station has no data with the selected sample type\n",
    "empty_sunburst_data = {'Phylum': [], 'Class': [], 'Order': []}\n",
    "for parent in ['Undetermined_1', 'Undetermined_2', 'Undetermined_3']:\n",
    "    for child1 in ['Undetermined_1', 'Undetermined_2', 'Undetermined_3']:\n",
    "        for child2 in ['Undetermined_1', 'Undetermined_2', 'Undetermined_3']:\n",
    "            empty_sunburst_data['Phylum'].append(parent)\n",
    "            empty_sunburst_data['Class'].append(child1)\n",
    "            empty_sunburst_data['Order'].append(child2)\n",
    "empty_sunburst_fig = px.sunburst(empty_sunburst_data, path=['Phylum', 'Class', 'Order'])\n",
    "\n",
    "# precompute sunburst figures for every station id, sample type, dataset combination\n",
    "counter = 0\n",
    "total_computing = len(data_meta['Sta_ID'].dropna().unique()) * len(data_meta['sample_type'].dropna().unique()) * 3\n",
    "print(f'Pre-computing {total_computing} Sunburst Figures')\n",
    "sunburst_figs = {station_id: {} for station_id in data_meta['Sta_ID'].dropna().unique()}\n",
    "taxonomies_all = {station_id: {} for station_id in data_meta['Sta_ID'].dropna().unique()}\n",
    "for station_id in data_meta['Sta_ID'].dropna().unique():\n",
    "    for sample_type in data_meta['sample_type'].dropna().unique():\n",
    "        sunburst_figs[station_id][sample_type] = {}\n",
    "        taxonomies_all[station_id][sample_type] = {}\n",
    "        for dataset in ['16S', '18Sv4', '18Sv9']:\n",
    "            cols_show_in_sunburst = ['Phylum', 'Class', 'Order']\n",
    "            station_data = data_meta[(data_meta['Sta_ID'] == station_id) & (data_meta['sample_type'] == sample_type)]\n",
    "            station_samples = station_data['sampleid'].tolist()\n",
    "            if dataset =='16S':\n",
    "                taxa_col_names = ['Domain', 'Phylum', 'Class', 'Order', 'Family', 'Genus', 'Species']\n",
    "\n",
    "                # Merge with 16S dataframe to get taxonomy data for the samples\n",
    "                asv_cols = pd.Series(data_16S.columns).isin(station_samples).values\n",
    "                if np.sum(asv_cols) == 0: # If there are no samples for the sample_type at the station\n",
    "                    # set the figure to an empty figure\n",
    "                    title = f'No {sample_type} samples for station \"{station_id}\"'\n",
    "                    fig = px.sunburst(empty_sunburst_data, path=['Phylum', 'Class', 'Order'], title=title)\n",
    "                    sunburst_figs[station_id][sample_type][dataset] = fig\n",
    "                    continue\n",
    "                asv_cols[0] = True\n",
    "                station_asvs = pd.concat([data_16S.loc[:,asv_cols], data_16S['silva_Taxon']], axis=1)\n",
    "\n",
    "                # Get relative abundances\n",
    "                values = station_asvs.drop(['Feature.ID', 'silva_Taxon'], axis=1).fillna(0).sum(axis=1)\n",
    "                #values = values / values.sum()\n",
    "\n",
    "                # Count occurrences of each taxonomy category\n",
    "                taxonomies = station_asvs['silva_Taxon'].str.split('; ', expand=True)\n",
    "                taxonomies.columns = taxa_col_names\n",
    "                taxonomies = taxonomies.dropna(subset=cols_show_in_sunburst[0]).fillna('___Undetermined')[cols_show_in_sunburst]\n",
    "\n",
    "                # get rid of the silva d__, p__, etc prefixes\n",
    "                for col in taxonomies.columns:\n",
    "                    taxonomies[col] = taxonomies[col].apply(lambda x: x[3:])\n",
    "\n",
    "                # Get relative abundances\n",
    "                taxonomies['abundance_values'] = values\n",
    "                taxonomies = taxonomies[taxonomies['abundance_values'] != 0]\n",
    "\n",
    "                # set title of plot\n",
    "                title = '16S Silva Taxonomy, Station \"' + station_id + '\"'\n",
    "            elif dataset == '18Sv4':\n",
    "                taxa_col_names = ['Kingdom', 'Domain', 'Phylum', 'Class', 'Order', 'Family', 'Genus', 'Species']\n",
    "                # Merge with 18Sv4 dataframe to get taxonomy data for the samples\n",
    "                asv_cols = pd.Series(data_18Sv4.columns).isin(station_samples).values\n",
    "                if np.sum(asv_cols) == 0: # If there are no samples for the sample_type at the station\n",
    "                    # set the figure to an empty figure\n",
    "                    title = f'No {sample_type} samples for station \"{station_id}\"'\n",
    "                    fig = px.sunburst(empty_sunburst_data, path=['Phylum', 'Class', 'Order'], title=title)\n",
    "                    sunburst_figs[station_id][sample_type][dataset] = fig\n",
    "                    continue\n",
    "                asv_cols[0] = True\n",
    "                station_asvs = pd.concat([data_18Sv4.loc[:,asv_cols], data_18Sv4['pr2_Taxon']], axis=1)\n",
    "\n",
    "                # Get relative abundances\n",
    "                values = station_asvs.drop(['Feature.ID', 'pr2_Taxon'], axis=1).fillna(0).sum(axis=1)\n",
    "                #values = values / values.sum()\n",
    "\n",
    "                # Count occurrences of each taxonomy category\n",
    "                taxonomies = station_asvs['pr2_Taxon'].str.split(';', expand=True)\n",
    "                taxonomies = taxonomies.iloc[:, :8]\n",
    "                taxonomies.columns = taxa_col_names\n",
    "                taxonomies = taxonomies.dropna(subset='Phylum').fillna('Undetermined')[cols_show_in_sunburst]\n",
    "\n",
    "                # Add relative abundances\n",
    "                taxonomies['abundance_values'] = values\n",
    "                taxonomies = taxonomies[taxonomies['abundance_values'] != 0]\n",
    "\n",
    "                # set title of plot\n",
    "                title = '18S v4 PR2 Taxonomy, Station \"' + station_id + '\"'\n",
    "\n",
    "            elif dataset == '18Sv9':\n",
    "                taxa_col_names = ['Kingdom', 'Domain', 'Phylum', 'Class', 'Order', 'Family', 'Genus', 'Species']\n",
    "\n",
    "                # Merge with 18Sv9 dataframe to get taxonomy data for the samples\n",
    "                asv_cols = pd.Series(data_18Sv9.columns).isin(station_samples).values\n",
    "                if np.sum(asv_cols) == 0: # If there are no samples for the sample_type at the station\n",
    "                    # set the figure to an empty figure\n",
    "                    title = f'No {sample_type} samples for station \"{station_id}\"'\n",
    "                    fig = px.sunburst(empty_sunburst_data, path=['Phylum', 'Class', 'Order'], title=title)\n",
    "                    sunburst_figs[station_id][sample_type][dataset] = fig\n",
    "                    continue\n",
    "                asv_cols[0] = True\n",
    "                station_asvs = pd.concat([data_18Sv9.loc[:,asv_cols], data_18Sv9['pr2_Taxon']], axis=1)\n",
    "\n",
    "                # Get relative abundances\n",
    "                values = station_asvs.drop(['Feature.ID', 'pr2_Taxon'], axis=1).fillna(0).sum(axis=1)\n",
    "                #values = values / values.sum()\n",
    "\n",
    "                # Count occurrences of each taxonomy category\n",
    "                taxonomies = station_asvs['pr2_Taxon'].str.split(';', expand=True)\n",
    "                taxonomies = taxonomies.iloc[:, :8]\n",
    "                taxonomies.columns = taxa_col_names\n",
    "                taxonomies = taxonomies.dropna(subset='Phylum').fillna('Undetermined')[cols_show_in_sunburst]\n",
    "\n",
    "                # Add relative abundances\n",
    "                taxonomies['abundance_values'] = values\n",
    "                taxonomies = taxonomies[taxonomies['abundance_values'] != 0]\n",
    "\n",
    "                # set title of plot\n",
    "                title = '18S v9 PR2 Taxonomy, Station \"' + station_id + '\"'\n",
    "            taxonomies['relative_abundance'] = taxonomies['abundance_values'] / taxonomies['abundance_values'].sum()\n",
    "            taxonomies['relative_abundance'] = (taxonomies['relative_abundance'] * 100).round(2)\n",
    "            fig = px.sunburst(taxonomies, path=['Phylum', 'Class', 'Order'], values='relative_abundance',\n",
    "                              title=title)\n",
    "            taxonomies_all[station_id][sample_type][dataset] = taxonomies\n",
    "            sunburst_figs[station_id][sample_type][dataset] = fig\n",
    "        counter += 3\n",
    "        print('Finished: {0:.2f}%'.format(100 * counter / total_computing), end='\\r')\n",
    "print()\n"
   ]
  },
  {
   "cell_type": "markdown",
   "metadata": {},
   "source": [
    "# Create stacked bar "
   ]
  },
  {
   "cell_type": "code",
   "execution_count": 190,
   "metadata": {},
   "outputs": [
    {
     "name": "stdout",
     "output_type": "stream",
     "text": [
      "Pre-computing 1092 Stacked Bar Figures\n",
      "Finished: 100.00%\r"
     ]
    }
   ],
   "source": [
    "counter = 0\n",
    "print(f'Pre-computing {total_computing} Stacked Bar Figures')\n",
    "stacked_bar_figs = {station_id: {} for station_id in data_meta['Sta_ID'].dropna().unique()}\n",
    "for station_id in data_meta['Sta_ID'].dropna().unique():\n",
    "    for sample_type in data_meta['sample_type'].dropna().unique():\n",
    "        stacked_bar_figs[station_id][sample_type] = {}\n",
    "        for dataset in ['16S', '18Sv4', '18Sv9']:\n",
    "            station_data = data_meta[(data_meta['Sta_ID'] == station_id) & (data_meta['sample_type'] == sample_type)]\n",
    "            station_samples = station_data['sampleid'].tolist()\n",
    "            if dataset == '16S':\n",
    "                taxa_col_names = ['Domain', 'Phylum', 'Class', 'Order', 'Family', 'Genus', 'Species']\n",
    "                asv_cols = pd.Series(data_16S.columns).isin(station_samples).values\n",
    "                if np.sum(asv_cols) == 0:\n",
    "                    empty_fig = go.Figure(\n",
    "                        data=[\n",
    "                            go.Bar(name='Group 1', x=['No Samples'], y=[1], offsetgroup=1),\n",
    "                            go.Bar(name='Group 2', x=['No Samples'], y=[1], offsetgroup=1, base=[1])\n",
    "                        ],\n",
    "                        layout=go.Layout(\n",
    "                            title=f'Station {station_id} phyla distribution per sample',\n",
    "                            yaxis_title='Relative Abundance', height=600, width=600\n",
    "                        )\n",
    "                    )\n",
    "                    stacked_bar_figs[station_id][sample_type][dataset] = empty_fig\n",
    "                    continue\n",
    "\n",
    "                asv_cols[0] = True\n",
    "                station_asvs = pd.concat([data_16S.loc[:,asv_cols], data_16S['silva_Taxon']], axis=1)\n",
    "\n",
    "                # Get relative abundances\n",
    "                values = station_asvs.drop(['Feature.ID', 'silva_Taxon'], axis=1).fillna(0)\n",
    "                values = values / values.sum()\n",
    "\n",
    "                # Count occurrences of each taxonomy category\n",
    "                taxonomies = station_asvs['silva_Taxon'].str.split('; ', expand=True)\n",
    "                taxonomies.columns = taxa_col_names\n",
    "                taxonomies = taxonomies.fillna('___Undetermined')[['Phylum', 'Class']]\n",
    "\n",
    "                # get rid of the silva d__, p__, etc prefixes\n",
    "                for col in taxonomies.columns:\n",
    "                    taxonomies[col] = taxonomies[col].apply(lambda x: x[3:])\n",
    "\n",
    "                # Get relative abundances of top phyla / special classes\n",
    "                taxonomies = pd.concat([taxonomies, values], axis=1)\n",
    "                phyla_counts = taxonomies.groupby('Phylum').sum()\n",
    "                for phylum in top_10_phyla_16S:\n",
    "                    if phylum not in phyla_counts.index:\n",
    "                        phyla_counts.loc[phylum] = 0\n",
    "                top_phyla_counts = phyla_counts.loc[top_10_phyla_16S]\n",
    "                other_phyla_counts = phyla_counts[(\n",
    "                    (phyla_counts.index != 'Undetermined') & (~phyla_counts.index.isin(top_10_phyla_16S))\n",
    "                )].sum()\n",
    "                top_phyla_counts.loc['Other'] = other_phyla_counts\n",
    "                top_phyla_counts.loc['Undetermined'] = phyla_counts.loc['Undetermined']\n",
    "\n",
    "                # Create stacked bar figure\n",
    "                base = top_phyla_counts.loc[top_phyla_counts.index[0]].copy()\n",
    "                stacked_bar_labels = top_phyla_counts.columns\n",
    "                fig_data = [go.Bar(\n",
    "                    name=top_phyla_counts.index[0],\n",
    "                    x=stacked_bar_labels,\n",
    "                    y=base,\n",
    "                    customdata=base.copy(),\n",
    "                    marker=go.bar.Marker(color=colors_16S[top_phyla_counts.index[0]]),\n",
    "                    hovertemplate='Rel. Abundance:%{customdata:.3f}',\n",
    "                    offsetgroup=1,\n",
    "                )]\n",
    "                for phyla in top_phyla_counts.index[1:]:\n",
    "                    vals = top_phyla_counts.loc[phyla]\n",
    "                    fig_data.append(go.Bar(\n",
    "                        name=phyla,\n",
    "                        x=stacked_bar_labels,\n",
    "                        y=vals,\n",
    "                        marker=go.bar.Marker(color=colors_16S[phyla]),\n",
    "                        customdata=vals.copy(),\n",
    "                        hovertemplate='Rel. Abundance:%{customdata:.3f}',\n",
    "                        offsetgroup=1,\n",
    "                        base=base\n",
    "                    ))\n",
    "                    base += vals\n",
    "                stacked_bar_fig = go.Figure(\n",
    "                    data=fig_data,\n",
    "                    layout=go.Layout(\n",
    "                        title=f'Station {station_id} phyla distribution per sample',\n",
    "                        yaxis_title='Relative abundance'\n",
    "                    )\n",
    "                )\n",
    "                stacked_bar_figs[station_id][sample_type][dataset] =  stacked_bar_fig\n",
    "\n",
    "            if dataset == '18Sv4':\n",
    "                taxa_col_names = ['Kingdom', 'Domain', 'Phylum', 'Class', 'Order', 'Family', 'Genus', 'Species']\n",
    "                asv_cols = pd.Series(data_18Sv4.columns).isin(station_samples).values\n",
    "                if np.sum(asv_cols) == 0:\n",
    "                    empty_fig = go.Figure(\n",
    "                        data=[\n",
    "                            go.Bar(name='Group 1', x=['No Samples'], y=[1], offsetgroup=1),\n",
    "                            go.Bar(name='Group 2', x=['No Samples'], y=[1], offsetgroup=1, base=[1])\n",
    "                        ],\n",
    "                        layout=go.Layout(\n",
    "                            title=f'Station {station_id} phyla distribution per sample',\n",
    "                            yaxis_title='Relative Abundance', height=600, width=600\n",
    "                        )\n",
    "                    )\n",
    "                    stacked_bar_figs[station_id][sample_type][dataset] = empty_fig\n",
    "                    continue\n",
    "                \n",
    "                asv_cols[0] = True\n",
    "                station_asvs = pd.concat([data_18Sv4.loc[:,asv_cols], data_18Sv4['pr2_Taxon']], axis=1)\n",
    "\n",
    "                # Get relative abundances\n",
    "                values = station_asvs.drop(['Feature.ID', 'pr2_Taxon'], axis=1).fillna(0)\n",
    "                values = values / values.sum()\n",
    "\n",
    "                # Count occurrences of each taxonomy category\n",
    "                taxonomies = station_asvs['pr2_Taxon'].str.split(';', expand=True).iloc[:,:8]\n",
    "                taxonomies.columns = taxa_col_names\n",
    "                taxonomies = taxonomies.fillna('Undetermined')[['Phylum', 'Class']]\n",
    "\n",
    "                # Get relative abundances of top phyla / special classes\n",
    "                taxonomies = pd.concat([taxonomies, values], axis=1)\n",
    "                phyla_counts = taxonomies.groupby('Phylum').sum()\n",
    "                class_counts = taxonomies.groupby('Class').sum()\n",
    "                if 'Syndiniales' not in class_counts.index:\n",
    "                    class_counts.loc['Syndiniales'] = 0\n",
    "                if 'Bacillariophyta' not in class_counts.index:\n",
    "                    class_counts.loc['Bacillariophyta'] = 0\n",
    "                for phylum in top_8_phyla_18Sv4 + ['Dinoflagellata', 'Ochrophyta']:\n",
    "                    if not phylum in phyla_counts.index:\n",
    "                        phyla_counts.loc[phylum] = 0\n",
    "                phyla_counts.loc['Dinoflagellata'] -= class_counts.loc['Syndiniales']\n",
    "                phyla_counts.loc['Ochrophyta'] -= class_counts.loc['Bacillariophyta']\n",
    "                \n",
    "                # Top 10 phyla + special classes\n",
    "                top_phyla_counts = pd.concat([\n",
    "                    phyla_counts.loc[top_8_phyla_18Sv4],\n",
    "                    class_counts.loc[['Syndiniales', 'Bacillariophyta']]\n",
    "                ])\n",
    "                other_phyla_counts = phyla_counts[(\n",
    "                    (phyla_counts.index != 'Undetermined') & (~phyla_counts.index.isin(top_10_phyla_16S))\n",
    "                )].sum()\n",
    "                top_phyla_counts.loc['Other'] = other_phyla_counts\n",
    "                top_phyla_counts.loc['Undetermined'] = phyla_counts.loc['Undetermined']\n",
    "\n",
    "                # Create stacked bar figure\n",
    "                base = top_phyla_counts.loc[top_phyla_counts.index[0]].copy()\n",
    "                stacked_bar_labels = top_phyla_counts.columns\n",
    "                fig_data = [go.Bar(\n",
    "                    name=top_phyla_counts.index[0],\n",
    "                    x=stacked_bar_labels,\n",
    "                    y=base,\n",
    "                    customdata=base.copy(),\n",
    "                    marker=go.bar.Marker(color=colors_18S[top_phyla_counts.index[0]]),\n",
    "                    hovertemplate='Rel. Abundance:%{customdata:.3f}',\n",
    "                    offsetgroup=1,\n",
    "                )]\n",
    "                for phyla in top_phyla_counts.index[1:]:\n",
    "                    vals = top_phyla_counts.loc[phyla]\n",
    "                    fig_data.append(go.Bar(\n",
    "                        name=phyla,\n",
    "                        x=stacked_bar_labels,\n",
    "                        y=vals,\n",
    "                        marker=go.bar.Marker(color=colors_18S[phyla]),\n",
    "                        customdata=vals.copy(),\n",
    "                        hovertemplate='Rel. Abundance:%{customdata:.3f}',\n",
    "                        offsetgroup=1,\n",
    "                        base=base\n",
    "                    ))\n",
    "                    base += vals\n",
    "                stacked_bar_fig = go.Figure(\n",
    "                    data=fig_data,\n",
    "                    layout=go.Layout(\n",
    "                        title=f'Station {station_id} phyla distribution per sample',\n",
    "                        yaxis_title='Relative abundance'\n",
    "                    )\n",
    "                )\n",
    "                stacked_bar_figs[station_id][sample_type][dataset] =  stacked_bar_fig\n",
    "            if dataset == '18Sv9':\n",
    "                taxa_col_names = ['Kingdom', 'Domain', 'Phylum', 'Class', 'Order', 'Family', 'Genus', 'Species']\n",
    "                asv_cols = pd.Series(data_18Sv9.columns).isin(station_samples).values\n",
    "                if np.sum(asv_cols) == 0:\n",
    "                    empty_fig = go.Figure(\n",
    "                        data=[\n",
    "                            go.Bar(name='Group 1', x=['No Samples'], y=[1], offsetgroup=1),\n",
    "                            go.Bar(name='Group 2', x=['No Samples'], y=[1], offsetgroup=1, base=[1])\n",
    "                        ],\n",
    "                        layout=go.Layout(\n",
    "                            title=f'Station {station_id} phyla distribution per sample',\n",
    "                            yaxis_title='Relative Abundance', height=600, width=600\n",
    "                        )\n",
    "                    )\n",
    "                    stacked_bar_figs[station_id][sample_type][dataset] = empty_fig\n",
    "                    continue\n",
    "                \n",
    "                asv_cols[0] = True\n",
    "                station_asvs = pd.concat([data_18Sv9.loc[:,asv_cols], data_18Sv9['pr2_Taxon']], axis=1)\n",
    "\n",
    "                # Get relative abundances\n",
    "                values = station_asvs.drop(['Feature.ID', 'pr2_Taxon'], axis=1).fillna(0)\n",
    "                values = values / values.sum()\n",
    "\n",
    "                # Count occurrences of each taxonomy category\n",
    "                taxonomies = station_asvs['pr2_Taxon'].str.split(';', expand=True).iloc[:,:8]\n",
    "                taxonomies.columns = taxa_col_names\n",
    "                taxonomies = taxonomies.fillna('Undetermined')[['Phylum', 'Class']]\n",
    "\n",
    "                # Get relative abundances of top phyla / special classes\n",
    "                taxonomies = pd.concat([taxonomies, values], axis=1)\n",
    "                phyla_counts = taxonomies.groupby('Phylum').sum()\n",
    "                class_counts = taxonomies.groupby('Class').sum()\n",
    "                if 'Syndiniales' not in class_counts.index:\n",
    "                    class_counts.loc['Syndiniales'] = 0\n",
    "                if 'Bacillariophyta' not in class_counts.index:\n",
    "                    class_counts.loc['Bacillariophyta'] = 0\n",
    "                for phylum in top_8_phyla_18Sv9 + ['Dinoflagellata', 'Ochrophyta']:\n",
    "                    if phylum not in phyla_counts.index:\n",
    "                        phyla_counts.loc[phylum] = 0\n",
    "                phyla_counts.loc['Dinoflagellata'] -= class_counts.loc['Syndiniales']\n",
    "                phyla_counts.loc['Ochrophyta'] -= class_counts.loc['Bacillariophyta']\n",
    "                \n",
    "                # Top 10 phyla + special classes\n",
    "                top_phyla_counts = pd.concat([\n",
    "                    phyla_counts.loc[top_8_phyla_18Sv9],\n",
    "                    class_counts.loc[['Syndiniales', 'Bacillariophyta']]\n",
    "                ])\n",
    "                other_phyla_counts = phyla_counts[(\n",
    "                    (phyla_counts.index != 'Undetermined') & (~phyla_counts.index.isin(top_10_phyla_16S))\n",
    "                )].sum()\n",
    "                top_phyla_counts.loc['Other'] = other_phyla_counts\n",
    "                top_phyla_counts.loc['Undetermined'] = phyla_counts.loc['Undetermined']\n",
    "\n",
    "                # Create stacked bar figure\n",
    "                base = top_phyla_counts.loc[top_phyla_counts.index[0]].copy()\n",
    "                stacked_bar_labels = top_phyla_counts.columns\n",
    "                fig_data = [go.Bar(\n",
    "                    name=top_phyla_counts.index[0],\n",
    "                    x=stacked_bar_labels,\n",
    "                    y=base,\n",
    "                    customdata=base.copy(),\n",
    "                    marker=go.bar.Marker(color=colors_18S[top_phyla_counts.index[0]]),\n",
    "                    hovertemplate='Rel. Abundance:%{customdata:.3f}',\n",
    "                    offsetgroup=1,\n",
    "                )]\n",
    "                for phyla in top_phyla_counts.index[1:]:\n",
    "                    vals = top_phyla_counts.loc[phyla]\n",
    "                    fig_data.append(go.Bar(\n",
    "                        name=phyla,\n",
    "                        x=stacked_bar_labels,\n",
    "                        y=vals,\n",
    "                        marker=go.bar.Marker(color=colors_18S[phyla]),\n",
    "                        customdata=vals.copy(),\n",
    "                        hovertemplate='Rel. Abundance:%{customdata:.3f}',\n",
    "                        offsetgroup=1,\n",
    "                        base=base\n",
    "                    ))\n",
    "                    base += vals\n",
    "                stacked_bar_fig = go.Figure(\n",
    "                    data=fig_data,\n",
    "                    layout=go.Layout(\n",
    "                        title=f'Station {station_id} phyla distribution per sample',\n",
    "                        yaxis_title='Relative abundance'\n",
    "                    )\n",
    "                )\n",
    "                stacked_bar_figs[station_id][sample_type][dataset] =  stacked_bar_fig\n",
    "        counter += 3\n",
    "        print('Finished: {0:.2f}%'.format(100 * counter / total_computing), end='\\r')"
   ]
  },
  {
   "cell_type": "code",
   "execution_count": 194,
   "metadata": {},
   "outputs": [
    {
     "data": {
      "application/vnd.plotly.v1+json": {
       "config": {
        "plotlyServerURL": "https://plot.ly"
       },
       "data": [
        {
         "customdata": [
          0.5729488812079316,
          0.46464422021226537
         ],
         "hovertemplate": "Rel. Abundance:%{customdata:.3f}",
         "marker": {
          "color": "#636EFA"
         },
         "name": "Proteobacteria",
         "offsetgroup": "1",
         "type": "bar",
         "x": [
          "X201802_093.3_030.0_10",
          "X202001_093.3_030.0_10"
         ],
         "y": [
          0.5729488812079316,
          0.46464422021226537
         ]
        },
        {
         "base": [
          0.5729488812079316,
          0.46464422021226537
         ],
         "customdata": [
          0.25,
          0.3650598630208606
         ],
         "hovertemplate": "Rel. Abundance:%{customdata:.3f}",
         "marker": {
          "color": "#EF553B"
         },
         "name": "Cyanobacteria",
         "offsetgroup": "1",
         "type": "bar",
         "x": [
          "X201802_093.3_030.0_10",
          "X202001_093.3_030.0_10"
         ],
         "y": [
          0.25,
          0.3650598630208606
         ]
        },
        {
         "base": [
          0.8229488812079316,
          0.8297040832331259
         ],
         "customdata": [
          0.09103450366866776,
          0.07199247137554243
         ],
         "hovertemplate": "Rel. Abundance:%{customdata:.3f}",
         "marker": {
          "color": "#00CC96"
         },
         "name": "Bacteroidota",
         "offsetgroup": "1",
         "type": "bar",
         "x": [
          "X201802_093.3_030.0_10",
          "X202001_093.3_030.0_10"
         ],
         "y": [
          0.09103450366866776,
          0.07199247137554243
         ]
        },
        {
         "base": [
          0.9139833848765994,
          0.9016965546086684
         ],
         "customdata": [
          0.017115396276757018,
          0.015946044858054058
         ],
         "hovertemplate": "Rel. Abundance:%{customdata:.3f}",
         "marker": {
          "color": "#AB63FA"
         },
         "name": "Thermoplasmatota",
         "offsetgroup": "1",
         "type": "bar",
         "x": [
          "X201802_093.3_030.0_10",
          "X202001_093.3_030.0_10"
         ],
         "y": [
          0.017115396276757018,
          0.015946044858054058
         ]
        },
        {
         "base": [
          0.9310987811533564,
          0.9176425994667224
         ],
         "customdata": [
          0.023952458916985022,
          0.014599780415119987
         ],
         "hovertemplate": "Rel. Abundance:%{customdata:.3f}",
         "marker": {
          "color": "#FFA15A"
         },
         "name": "Actinobacteriota",
         "offsetgroup": "1",
         "type": "bar",
         "x": [
          "X201802_093.3_030.0_10",
          "X202001_093.3_030.0_10"
         ],
         "y": [
          0.023952458916985022,
          0.014599780415119987
         ]
        },
        {
         "base": [
          0.9550512400703415,
          0.9322423798818424
         ],
         "customdata": [
          0.020435389000060637,
          0.01795890625816908
         ],
         "hovertemplate": "Rel. Abundance:%{customdata:.3f}",
         "marker": {
          "color": "#19D3F3"
         },
         "name": "Marinimicrobia_(SAR406_clade)",
         "offsetgroup": "1",
         "type": "bar",
         "x": [
          "X201802_093.3_030.0_10",
          "X202001_093.3_030.0_10"
         ],
         "y": [
          0.020435389000060637,
          0.01795890625816908
         ]
        },
        {
         "base": [
          0.9754866290704021,
          0.9502012861400115
         ],
         "customdata": [
          0.008080164938451276,
          0.018076541015318658
         ],
         "hovertemplate": "Rel. Abundance:%{customdata:.3f}",
         "marker": {
          "color": "#FF6692"
         },
         "name": "Verrucomicrobiota",
         "offsetgroup": "1",
         "type": "bar",
         "x": [
          "X201802_093.3_030.0_10",
          "X202001_093.3_030.0_10"
         ],
         "y": [
          0.008080164938451276,
          0.018076541015318658
         ]
        },
        {
         "base": [
          0.9835667940088534,
          0.9682778271553302
         ],
         "customdata": [
          0.0005912315808622885,
          0.0010717833429183877
         ],
         "hovertemplate": "Rel. Abundance:%{customdata:.3f}",
         "marker": {
          "color": "#B6E880"
         },
         "name": "Crenarchaeota",
         "offsetgroup": "1",
         "type": "bar",
         "x": [
          "X201802_093.3_030.0_10",
          "X202001_093.3_030.0_10"
         ],
         "y": [
          0.0005912315808622885,
          0.0010717833429183877
         ]
        },
        {
         "base": [
          0.9841580255897157,
          0.9693496104982485
         ],
         "customdata": [
          0.005048208113516463,
          0.007149579128979976
         ],
         "hovertemplate": "Rel. Abundance:%{customdata:.3f}",
         "marker": {
          "color": "#FF97FF"
         },
         "name": "SAR324_clade(Marine_group_B)",
         "offsetgroup": "1",
         "type": "bar",
         "x": [
          "X201802_093.3_030.0_10",
          "X202001_093.3_030.0_10"
         ],
         "y": [
          0.005048208113516463,
          0.007149579128979976
         ]
        },
        {
         "base": [
          0.9892062337032321,
          0.9764991896272285
         ],
         "customdata": [
          0.0033957916439269903,
          0.0065875464003764305
         ],
         "hovertemplate": "Rel. Abundance:%{customdata:.3f}",
         "marker": {
          "color": "#FECB52"
         },
         "name": "Planctomycetota",
         "offsetgroup": "1",
         "type": "bar",
         "x": [
          "X201802_093.3_030.0_10",
          "X202001_093.3_030.0_10"
         ],
         "y": [
          0.0033957916439269903,
          0.0065875464003764305
         ]
        },
        {
         "base": [
          0.9926020253471591,
          0.9830867360276049
         ],
         "customdata": [
          0.007079619186222787,
          0.015959115386626234
         ],
         "hovertemplate": "Rel. Abundance:%{customdata:.3f}",
         "marker": {
          "color": "#71797E"
         },
         "name": "Other",
         "offsetgroup": "1",
         "type": "bar",
         "x": [
          "X201802_093.3_030.0_10",
          "X202001_093.3_030.0_10"
         ],
         "y": [
          0.007079619186222787,
          0.015959115386626234
         ]
        },
        {
         "base": [
          0.9996816445333819,
          0.9990458514142311
         ],
         "customdata": [
          0.00031835546661815534,
          0.0009541485857688084
         ],
         "hovertemplate": "Rel. Abundance:%{customdata:.3f}",
         "marker": {
          "color": "#C0C0C0"
         },
         "name": "Undetermined",
         "offsetgroup": "1",
         "type": "bar",
         "x": [
          "X201802_093.3_030.0_10",
          "X202001_093.3_030.0_10"
         ],
         "y": [
          0.00031835546661815534,
          0.0009541485857688084
         ]
        }
       ],
       "layout": {
        "template": {
         "data": {
          "bar": [
           {
            "error_x": {
             "color": "#2a3f5f"
            },
            "error_y": {
             "color": "#2a3f5f"
            },
            "marker": {
             "line": {
              "color": "#E5ECF6",
              "width": 0.5
             },
             "pattern": {
              "fillmode": "overlay",
              "size": 10,
              "solidity": 0.2
             }
            },
            "type": "bar"
           }
          ],
          "barpolar": [
           {
            "marker": {
             "line": {
              "color": "#E5ECF6",
              "width": 0.5
             },
             "pattern": {
              "fillmode": "overlay",
              "size": 10,
              "solidity": 0.2
             }
            },
            "type": "barpolar"
           }
          ],
          "carpet": [
           {
            "aaxis": {
             "endlinecolor": "#2a3f5f",
             "gridcolor": "white",
             "linecolor": "white",
             "minorgridcolor": "white",
             "startlinecolor": "#2a3f5f"
            },
            "baxis": {
             "endlinecolor": "#2a3f5f",
             "gridcolor": "white",
             "linecolor": "white",
             "minorgridcolor": "white",
             "startlinecolor": "#2a3f5f"
            },
            "type": "carpet"
           }
          ],
          "choropleth": [
           {
            "colorbar": {
             "outlinewidth": 0,
             "ticks": ""
            },
            "type": "choropleth"
           }
          ],
          "contour": [
           {
            "colorbar": {
             "outlinewidth": 0,
             "ticks": ""
            },
            "colorscale": [
             [
              0,
              "#0d0887"
             ],
             [
              0.1111111111111111,
              "#46039f"
             ],
             [
              0.2222222222222222,
              "#7201a8"
             ],
             [
              0.3333333333333333,
              "#9c179e"
             ],
             [
              0.4444444444444444,
              "#bd3786"
             ],
             [
              0.5555555555555556,
              "#d8576b"
             ],
             [
              0.6666666666666666,
              "#ed7953"
             ],
             [
              0.7777777777777778,
              "#fb9f3a"
             ],
             [
              0.8888888888888888,
              "#fdca26"
             ],
             [
              1,
              "#f0f921"
             ]
            ],
            "type": "contour"
           }
          ],
          "contourcarpet": [
           {
            "colorbar": {
             "outlinewidth": 0,
             "ticks": ""
            },
            "type": "contourcarpet"
           }
          ],
          "heatmap": [
           {
            "colorbar": {
             "outlinewidth": 0,
             "ticks": ""
            },
            "colorscale": [
             [
              0,
              "#0d0887"
             ],
             [
              0.1111111111111111,
              "#46039f"
             ],
             [
              0.2222222222222222,
              "#7201a8"
             ],
             [
              0.3333333333333333,
              "#9c179e"
             ],
             [
              0.4444444444444444,
              "#bd3786"
             ],
             [
              0.5555555555555556,
              "#d8576b"
             ],
             [
              0.6666666666666666,
              "#ed7953"
             ],
             [
              0.7777777777777778,
              "#fb9f3a"
             ],
             [
              0.8888888888888888,
              "#fdca26"
             ],
             [
              1,
              "#f0f921"
             ]
            ],
            "type": "heatmap"
           }
          ],
          "heatmapgl": [
           {
            "colorbar": {
             "outlinewidth": 0,
             "ticks": ""
            },
            "colorscale": [
             [
              0,
              "#0d0887"
             ],
             [
              0.1111111111111111,
              "#46039f"
             ],
             [
              0.2222222222222222,
              "#7201a8"
             ],
             [
              0.3333333333333333,
              "#9c179e"
             ],
             [
              0.4444444444444444,
              "#bd3786"
             ],
             [
              0.5555555555555556,
              "#d8576b"
             ],
             [
              0.6666666666666666,
              "#ed7953"
             ],
             [
              0.7777777777777778,
              "#fb9f3a"
             ],
             [
              0.8888888888888888,
              "#fdca26"
             ],
             [
              1,
              "#f0f921"
             ]
            ],
            "type": "heatmapgl"
           }
          ],
          "histogram": [
           {
            "marker": {
             "pattern": {
              "fillmode": "overlay",
              "size": 10,
              "solidity": 0.2
             }
            },
            "type": "histogram"
           }
          ],
          "histogram2d": [
           {
            "colorbar": {
             "outlinewidth": 0,
             "ticks": ""
            },
            "colorscale": [
             [
              0,
              "#0d0887"
             ],
             [
              0.1111111111111111,
              "#46039f"
             ],
             [
              0.2222222222222222,
              "#7201a8"
             ],
             [
              0.3333333333333333,
              "#9c179e"
             ],
             [
              0.4444444444444444,
              "#bd3786"
             ],
             [
              0.5555555555555556,
              "#d8576b"
             ],
             [
              0.6666666666666666,
              "#ed7953"
             ],
             [
              0.7777777777777778,
              "#fb9f3a"
             ],
             [
              0.8888888888888888,
              "#fdca26"
             ],
             [
              1,
              "#f0f921"
             ]
            ],
            "type": "histogram2d"
           }
          ],
          "histogram2dcontour": [
           {
            "colorbar": {
             "outlinewidth": 0,
             "ticks": ""
            },
            "colorscale": [
             [
              0,
              "#0d0887"
             ],
             [
              0.1111111111111111,
              "#46039f"
             ],
             [
              0.2222222222222222,
              "#7201a8"
             ],
             [
              0.3333333333333333,
              "#9c179e"
             ],
             [
              0.4444444444444444,
              "#bd3786"
             ],
             [
              0.5555555555555556,
              "#d8576b"
             ],
             [
              0.6666666666666666,
              "#ed7953"
             ],
             [
              0.7777777777777778,
              "#fb9f3a"
             ],
             [
              0.8888888888888888,
              "#fdca26"
             ],
             [
              1,
              "#f0f921"
             ]
            ],
            "type": "histogram2dcontour"
           }
          ],
          "mesh3d": [
           {
            "colorbar": {
             "outlinewidth": 0,
             "ticks": ""
            },
            "type": "mesh3d"
           }
          ],
          "parcoords": [
           {
            "line": {
             "colorbar": {
              "outlinewidth": 0,
              "ticks": ""
             }
            },
            "type": "parcoords"
           }
          ],
          "pie": [
           {
            "automargin": true,
            "type": "pie"
           }
          ],
          "scatter": [
           {
            "fillpattern": {
             "fillmode": "overlay",
             "size": 10,
             "solidity": 0.2
            },
            "type": "scatter"
           }
          ],
          "scatter3d": [
           {
            "line": {
             "colorbar": {
              "outlinewidth": 0,
              "ticks": ""
             }
            },
            "marker": {
             "colorbar": {
              "outlinewidth": 0,
              "ticks": ""
             }
            },
            "type": "scatter3d"
           }
          ],
          "scattercarpet": [
           {
            "marker": {
             "colorbar": {
              "outlinewidth": 0,
              "ticks": ""
             }
            },
            "type": "scattercarpet"
           }
          ],
          "scattergeo": [
           {
            "marker": {
             "colorbar": {
              "outlinewidth": 0,
              "ticks": ""
             }
            },
            "type": "scattergeo"
           }
          ],
          "scattergl": [
           {
            "marker": {
             "colorbar": {
              "outlinewidth": 0,
              "ticks": ""
             }
            },
            "type": "scattergl"
           }
          ],
          "scattermapbox": [
           {
            "marker": {
             "colorbar": {
              "outlinewidth": 0,
              "ticks": ""
             }
            },
            "type": "scattermapbox"
           }
          ],
          "scatterpolar": [
           {
            "marker": {
             "colorbar": {
              "outlinewidth": 0,
              "ticks": ""
             }
            },
            "type": "scatterpolar"
           }
          ],
          "scatterpolargl": [
           {
            "marker": {
             "colorbar": {
              "outlinewidth": 0,
              "ticks": ""
             }
            },
            "type": "scatterpolargl"
           }
          ],
          "scatterternary": [
           {
            "marker": {
             "colorbar": {
              "outlinewidth": 0,
              "ticks": ""
             }
            },
            "type": "scatterternary"
           }
          ],
          "surface": [
           {
            "colorbar": {
             "outlinewidth": 0,
             "ticks": ""
            },
            "colorscale": [
             [
              0,
              "#0d0887"
             ],
             [
              0.1111111111111111,
              "#46039f"
             ],
             [
              0.2222222222222222,
              "#7201a8"
             ],
             [
              0.3333333333333333,
              "#9c179e"
             ],
             [
              0.4444444444444444,
              "#bd3786"
             ],
             [
              0.5555555555555556,
              "#d8576b"
             ],
             [
              0.6666666666666666,
              "#ed7953"
             ],
             [
              0.7777777777777778,
              "#fb9f3a"
             ],
             [
              0.8888888888888888,
              "#fdca26"
             ],
             [
              1,
              "#f0f921"
             ]
            ],
            "type": "surface"
           }
          ],
          "table": [
           {
            "cells": {
             "fill": {
              "color": "#EBF0F8"
             },
             "line": {
              "color": "white"
             }
            },
            "header": {
             "fill": {
              "color": "#C8D4E3"
             },
             "line": {
              "color": "white"
             }
            },
            "type": "table"
           }
          ]
         },
         "layout": {
          "annotationdefaults": {
           "arrowcolor": "#2a3f5f",
           "arrowhead": 0,
           "arrowwidth": 1
          },
          "autotypenumbers": "strict",
          "coloraxis": {
           "colorbar": {
            "outlinewidth": 0,
            "ticks": ""
           }
          },
          "colorscale": {
           "diverging": [
            [
             0,
             "#8e0152"
            ],
            [
             0.1,
             "#c51b7d"
            ],
            [
             0.2,
             "#de77ae"
            ],
            [
             0.3,
             "#f1b6da"
            ],
            [
             0.4,
             "#fde0ef"
            ],
            [
             0.5,
             "#f7f7f7"
            ],
            [
             0.6,
             "#e6f5d0"
            ],
            [
             0.7,
             "#b8e186"
            ],
            [
             0.8,
             "#7fbc41"
            ],
            [
             0.9,
             "#4d9221"
            ],
            [
             1,
             "#276419"
            ]
           ],
           "sequential": [
            [
             0,
             "#0d0887"
            ],
            [
             0.1111111111111111,
             "#46039f"
            ],
            [
             0.2222222222222222,
             "#7201a8"
            ],
            [
             0.3333333333333333,
             "#9c179e"
            ],
            [
             0.4444444444444444,
             "#bd3786"
            ],
            [
             0.5555555555555556,
             "#d8576b"
            ],
            [
             0.6666666666666666,
             "#ed7953"
            ],
            [
             0.7777777777777778,
             "#fb9f3a"
            ],
            [
             0.8888888888888888,
             "#fdca26"
            ],
            [
             1,
             "#f0f921"
            ]
           ],
           "sequentialminus": [
            [
             0,
             "#0d0887"
            ],
            [
             0.1111111111111111,
             "#46039f"
            ],
            [
             0.2222222222222222,
             "#7201a8"
            ],
            [
             0.3333333333333333,
             "#9c179e"
            ],
            [
             0.4444444444444444,
             "#bd3786"
            ],
            [
             0.5555555555555556,
             "#d8576b"
            ],
            [
             0.6666666666666666,
             "#ed7953"
            ],
            [
             0.7777777777777778,
             "#fb9f3a"
            ],
            [
             0.8888888888888888,
             "#fdca26"
            ],
            [
             1,
             "#f0f921"
            ]
           ]
          },
          "colorway": [
           "#636efa",
           "#EF553B",
           "#00cc96",
           "#ab63fa",
           "#FFA15A",
           "#19d3f3",
           "#FF6692",
           "#B6E880",
           "#FF97FF",
           "#FECB52"
          ],
          "font": {
           "color": "#2a3f5f"
          },
          "geo": {
           "bgcolor": "white",
           "lakecolor": "white",
           "landcolor": "#E5ECF6",
           "showlakes": true,
           "showland": true,
           "subunitcolor": "white"
          },
          "hoverlabel": {
           "align": "left"
          },
          "hovermode": "closest",
          "mapbox": {
           "style": "light"
          },
          "paper_bgcolor": "white",
          "plot_bgcolor": "#E5ECF6",
          "polar": {
           "angularaxis": {
            "gridcolor": "white",
            "linecolor": "white",
            "ticks": ""
           },
           "bgcolor": "#E5ECF6",
           "radialaxis": {
            "gridcolor": "white",
            "linecolor": "white",
            "ticks": ""
           }
          },
          "scene": {
           "xaxis": {
            "backgroundcolor": "#E5ECF6",
            "gridcolor": "white",
            "gridwidth": 2,
            "linecolor": "white",
            "showbackground": true,
            "ticks": "",
            "zerolinecolor": "white"
           },
           "yaxis": {
            "backgroundcolor": "#E5ECF6",
            "gridcolor": "white",
            "gridwidth": 2,
            "linecolor": "white",
            "showbackground": true,
            "ticks": "",
            "zerolinecolor": "white"
           },
           "zaxis": {
            "backgroundcolor": "#E5ECF6",
            "gridcolor": "white",
            "gridwidth": 2,
            "linecolor": "white",
            "showbackground": true,
            "ticks": "",
            "zerolinecolor": "white"
           }
          },
          "shapedefaults": {
           "line": {
            "color": "#2a3f5f"
           }
          },
          "ternary": {
           "aaxis": {
            "gridcolor": "white",
            "linecolor": "white",
            "ticks": ""
           },
           "baxis": {
            "gridcolor": "white",
            "linecolor": "white",
            "ticks": ""
           },
           "bgcolor": "#E5ECF6",
           "caxis": {
            "gridcolor": "white",
            "linecolor": "white",
            "ticks": ""
           }
          },
          "title": {
           "x": 0.05
          },
          "xaxis": {
           "automargin": true,
           "gridcolor": "white",
           "linecolor": "white",
           "ticks": "",
           "title": {
            "standoff": 15
           },
           "zerolinecolor": "white",
           "zerolinewidth": 2
          },
          "yaxis": {
           "automargin": true,
           "gridcolor": "white",
           "linecolor": "white",
           "ticks": "",
           "title": {
            "standoff": 15
           },
           "zerolinecolor": "white",
           "zerolinewidth": 2
          }
         }
        },
        "title": {
         "text": "Station 093.3 030.0 phyla distribution per sample"
        },
        "yaxis": {
         "title": {
          "text": "Relative abundance"
         }
        }
       }
      },
      "text/html": [
       "<div>                            <div id=\"f7ff55d8-9b04-458a-9abf-1bdd0dbf3107\" class=\"plotly-graph-div\" style=\"height:525px; width:100%;\"></div>            <script type=\"text/javascript\">                require([\"plotly\"], function(Plotly) {                    window.PLOTLYENV=window.PLOTLYENV || {};                                    if (document.getElementById(\"f7ff55d8-9b04-458a-9abf-1bdd0dbf3107\")) {                    Plotly.newPlot(                        \"f7ff55d8-9b04-458a-9abf-1bdd0dbf3107\",                        [{\"customdata\":[0.5729488812079316,0.46464422021226537],\"hovertemplate\":\"Rel. Abundance:%{customdata:.3f}\",\"marker\":{\"color\":\"#636EFA\"},\"name\":\"Proteobacteria\",\"offsetgroup\":\"1\",\"x\":[\"X201802_093.3_030.0_10\",\"X202001_093.3_030.0_10\"],\"y\":[0.5729488812079316,0.46464422021226537],\"type\":\"bar\"},{\"base\":[0.5729488812079316,0.46464422021226537],\"customdata\":[0.25,0.3650598630208606],\"hovertemplate\":\"Rel. Abundance:%{customdata:.3f}\",\"marker\":{\"color\":\"#EF553B\"},\"name\":\"Cyanobacteria\",\"offsetgroup\":\"1\",\"x\":[\"X201802_093.3_030.0_10\",\"X202001_093.3_030.0_10\"],\"y\":[0.25,0.3650598630208606],\"type\":\"bar\"},{\"base\":[0.8229488812079316,0.8297040832331259],\"customdata\":[0.09103450366866776,0.07199247137554243],\"hovertemplate\":\"Rel. Abundance:%{customdata:.3f}\",\"marker\":{\"color\":\"#00CC96\"},\"name\":\"Bacteroidota\",\"offsetgroup\":\"1\",\"x\":[\"X201802_093.3_030.0_10\",\"X202001_093.3_030.0_10\"],\"y\":[0.09103450366866776,0.07199247137554243],\"type\":\"bar\"},{\"base\":[0.9139833848765994,0.9016965546086684],\"customdata\":[0.017115396276757018,0.015946044858054058],\"hovertemplate\":\"Rel. Abundance:%{customdata:.3f}\",\"marker\":{\"color\":\"#AB63FA\"},\"name\":\"Thermoplasmatota\",\"offsetgroup\":\"1\",\"x\":[\"X201802_093.3_030.0_10\",\"X202001_093.3_030.0_10\"],\"y\":[0.017115396276757018,0.015946044858054058],\"type\":\"bar\"},{\"base\":[0.9310987811533564,0.9176425994667224],\"customdata\":[0.023952458916985022,0.014599780415119987],\"hovertemplate\":\"Rel. Abundance:%{customdata:.3f}\",\"marker\":{\"color\":\"#FFA15A\"},\"name\":\"Actinobacteriota\",\"offsetgroup\":\"1\",\"x\":[\"X201802_093.3_030.0_10\",\"X202001_093.3_030.0_10\"],\"y\":[0.023952458916985022,0.014599780415119987],\"type\":\"bar\"},{\"base\":[0.9550512400703415,0.9322423798818424],\"customdata\":[0.020435389000060637,0.01795890625816908],\"hovertemplate\":\"Rel. Abundance:%{customdata:.3f}\",\"marker\":{\"color\":\"#19D3F3\"},\"name\":\"Marinimicrobia_(SAR406_clade)\",\"offsetgroup\":\"1\",\"x\":[\"X201802_093.3_030.0_10\",\"X202001_093.3_030.0_10\"],\"y\":[0.020435389000060637,0.01795890625816908],\"type\":\"bar\"},{\"base\":[0.9754866290704021,0.9502012861400115],\"customdata\":[0.008080164938451276,0.018076541015318658],\"hovertemplate\":\"Rel. Abundance:%{customdata:.3f}\",\"marker\":{\"color\":\"#FF6692\"},\"name\":\"Verrucomicrobiota\",\"offsetgroup\":\"1\",\"x\":[\"X201802_093.3_030.0_10\",\"X202001_093.3_030.0_10\"],\"y\":[0.008080164938451276,0.018076541015318658],\"type\":\"bar\"},{\"base\":[0.9835667940088534,0.9682778271553302],\"customdata\":[0.0005912315808622885,0.0010717833429183877],\"hovertemplate\":\"Rel. Abundance:%{customdata:.3f}\",\"marker\":{\"color\":\"#B6E880\"},\"name\":\"Crenarchaeota\",\"offsetgroup\":\"1\",\"x\":[\"X201802_093.3_030.0_10\",\"X202001_093.3_030.0_10\"],\"y\":[0.0005912315808622885,0.0010717833429183877],\"type\":\"bar\"},{\"base\":[0.9841580255897157,0.9693496104982485],\"customdata\":[0.005048208113516463,0.007149579128979976],\"hovertemplate\":\"Rel. Abundance:%{customdata:.3f}\",\"marker\":{\"color\":\"#FF97FF\"},\"name\":\"SAR324_clade(Marine_group_B)\",\"offsetgroup\":\"1\",\"x\":[\"X201802_093.3_030.0_10\",\"X202001_093.3_030.0_10\"],\"y\":[0.005048208113516463,0.007149579128979976],\"type\":\"bar\"},{\"base\":[0.9892062337032321,0.9764991896272285],\"customdata\":[0.0033957916439269903,0.0065875464003764305],\"hovertemplate\":\"Rel. Abundance:%{customdata:.3f}\",\"marker\":{\"color\":\"#FECB52\"},\"name\":\"Planctomycetota\",\"offsetgroup\":\"1\",\"x\":[\"X201802_093.3_030.0_10\",\"X202001_093.3_030.0_10\"],\"y\":[0.0033957916439269903,0.0065875464003764305],\"type\":\"bar\"},{\"base\":[0.9926020253471591,0.9830867360276049],\"customdata\":[0.007079619186222787,0.015959115386626234],\"hovertemplate\":\"Rel. Abundance:%{customdata:.3f}\",\"marker\":{\"color\":\"#71797E\"},\"name\":\"Other\",\"offsetgroup\":\"1\",\"x\":[\"X201802_093.3_030.0_10\",\"X202001_093.3_030.0_10\"],\"y\":[0.007079619186222787,0.015959115386626234],\"type\":\"bar\"},{\"base\":[0.9996816445333819,0.9990458514142311],\"customdata\":[0.00031835546661815534,0.0009541485857688084],\"hovertemplate\":\"Rel. Abundance:%{customdata:.3f}\",\"marker\":{\"color\":\"#C0C0C0\"},\"name\":\"Undetermined\",\"offsetgroup\":\"1\",\"x\":[\"X201802_093.3_030.0_10\",\"X202001_093.3_030.0_10\"],\"y\":[0.00031835546661815534,0.0009541485857688084],\"type\":\"bar\"}],                        {\"title\":{\"text\":\"Station 093.3 030.0 phyla distribution per sample\"},\"yaxis\":{\"title\":{\"text\":\"Relative abundance\"}},\"template\":{\"data\":{\"histogram2dcontour\":[{\"type\":\"histogram2dcontour\",\"colorbar\":{\"outlinewidth\":0,\"ticks\":\"\"},\"colorscale\":[[0.0,\"#0d0887\"],[0.1111111111111111,\"#46039f\"],[0.2222222222222222,\"#7201a8\"],[0.3333333333333333,\"#9c179e\"],[0.4444444444444444,\"#bd3786\"],[0.5555555555555556,\"#d8576b\"],[0.6666666666666666,\"#ed7953\"],[0.7777777777777778,\"#fb9f3a\"],[0.8888888888888888,\"#fdca26\"],[1.0,\"#f0f921\"]]}],\"choropleth\":[{\"type\":\"choropleth\",\"colorbar\":{\"outlinewidth\":0,\"ticks\":\"\"}}],\"histogram2d\":[{\"type\":\"histogram2d\",\"colorbar\":{\"outlinewidth\":0,\"ticks\":\"\"},\"colorscale\":[[0.0,\"#0d0887\"],[0.1111111111111111,\"#46039f\"],[0.2222222222222222,\"#7201a8\"],[0.3333333333333333,\"#9c179e\"],[0.4444444444444444,\"#bd3786\"],[0.5555555555555556,\"#d8576b\"],[0.6666666666666666,\"#ed7953\"],[0.7777777777777778,\"#fb9f3a\"],[0.8888888888888888,\"#fdca26\"],[1.0,\"#f0f921\"]]}],\"heatmap\":[{\"type\":\"heatmap\",\"colorbar\":{\"outlinewidth\":0,\"ticks\":\"\"},\"colorscale\":[[0.0,\"#0d0887\"],[0.1111111111111111,\"#46039f\"],[0.2222222222222222,\"#7201a8\"],[0.3333333333333333,\"#9c179e\"],[0.4444444444444444,\"#bd3786\"],[0.5555555555555556,\"#d8576b\"],[0.6666666666666666,\"#ed7953\"],[0.7777777777777778,\"#fb9f3a\"],[0.8888888888888888,\"#fdca26\"],[1.0,\"#f0f921\"]]}],\"heatmapgl\":[{\"type\":\"heatmapgl\",\"colorbar\":{\"outlinewidth\":0,\"ticks\":\"\"},\"colorscale\":[[0.0,\"#0d0887\"],[0.1111111111111111,\"#46039f\"],[0.2222222222222222,\"#7201a8\"],[0.3333333333333333,\"#9c179e\"],[0.4444444444444444,\"#bd3786\"],[0.5555555555555556,\"#d8576b\"],[0.6666666666666666,\"#ed7953\"],[0.7777777777777778,\"#fb9f3a\"],[0.8888888888888888,\"#fdca26\"],[1.0,\"#f0f921\"]]}],\"contourcarpet\":[{\"type\":\"contourcarpet\",\"colorbar\":{\"outlinewidth\":0,\"ticks\":\"\"}}],\"contour\":[{\"type\":\"contour\",\"colorbar\":{\"outlinewidth\":0,\"ticks\":\"\"},\"colorscale\":[[0.0,\"#0d0887\"],[0.1111111111111111,\"#46039f\"],[0.2222222222222222,\"#7201a8\"],[0.3333333333333333,\"#9c179e\"],[0.4444444444444444,\"#bd3786\"],[0.5555555555555556,\"#d8576b\"],[0.6666666666666666,\"#ed7953\"],[0.7777777777777778,\"#fb9f3a\"],[0.8888888888888888,\"#fdca26\"],[1.0,\"#f0f921\"]]}],\"surface\":[{\"type\":\"surface\",\"colorbar\":{\"outlinewidth\":0,\"ticks\":\"\"},\"colorscale\":[[0.0,\"#0d0887\"],[0.1111111111111111,\"#46039f\"],[0.2222222222222222,\"#7201a8\"],[0.3333333333333333,\"#9c179e\"],[0.4444444444444444,\"#bd3786\"],[0.5555555555555556,\"#d8576b\"],[0.6666666666666666,\"#ed7953\"],[0.7777777777777778,\"#fb9f3a\"],[0.8888888888888888,\"#fdca26\"],[1.0,\"#f0f921\"]]}],\"mesh3d\":[{\"type\":\"mesh3d\",\"colorbar\":{\"outlinewidth\":0,\"ticks\":\"\"}}],\"scatter\":[{\"fillpattern\":{\"fillmode\":\"overlay\",\"size\":10,\"solidity\":0.2},\"type\":\"scatter\"}],\"parcoords\":[{\"type\":\"parcoords\",\"line\":{\"colorbar\":{\"outlinewidth\":0,\"ticks\":\"\"}}}],\"scatterpolargl\":[{\"type\":\"scatterpolargl\",\"marker\":{\"colorbar\":{\"outlinewidth\":0,\"ticks\":\"\"}}}],\"bar\":[{\"error_x\":{\"color\":\"#2a3f5f\"},\"error_y\":{\"color\":\"#2a3f5f\"},\"marker\":{\"line\":{\"color\":\"#E5ECF6\",\"width\":0.5},\"pattern\":{\"fillmode\":\"overlay\",\"size\":10,\"solidity\":0.2}},\"type\":\"bar\"}],\"scattergeo\":[{\"type\":\"scattergeo\",\"marker\":{\"colorbar\":{\"outlinewidth\":0,\"ticks\":\"\"}}}],\"scatterpolar\":[{\"type\":\"scatterpolar\",\"marker\":{\"colorbar\":{\"outlinewidth\":0,\"ticks\":\"\"}}}],\"histogram\":[{\"marker\":{\"pattern\":{\"fillmode\":\"overlay\",\"size\":10,\"solidity\":0.2}},\"type\":\"histogram\"}],\"scattergl\":[{\"type\":\"scattergl\",\"marker\":{\"colorbar\":{\"outlinewidth\":0,\"ticks\":\"\"}}}],\"scatter3d\":[{\"type\":\"scatter3d\",\"line\":{\"colorbar\":{\"outlinewidth\":0,\"ticks\":\"\"}},\"marker\":{\"colorbar\":{\"outlinewidth\":0,\"ticks\":\"\"}}}],\"scattermapbox\":[{\"type\":\"scattermapbox\",\"marker\":{\"colorbar\":{\"outlinewidth\":0,\"ticks\":\"\"}}}],\"scatterternary\":[{\"type\":\"scatterternary\",\"marker\":{\"colorbar\":{\"outlinewidth\":0,\"ticks\":\"\"}}}],\"scattercarpet\":[{\"type\":\"scattercarpet\",\"marker\":{\"colorbar\":{\"outlinewidth\":0,\"ticks\":\"\"}}}],\"carpet\":[{\"aaxis\":{\"endlinecolor\":\"#2a3f5f\",\"gridcolor\":\"white\",\"linecolor\":\"white\",\"minorgridcolor\":\"white\",\"startlinecolor\":\"#2a3f5f\"},\"baxis\":{\"endlinecolor\":\"#2a3f5f\",\"gridcolor\":\"white\",\"linecolor\":\"white\",\"minorgridcolor\":\"white\",\"startlinecolor\":\"#2a3f5f\"},\"type\":\"carpet\"}],\"table\":[{\"cells\":{\"fill\":{\"color\":\"#EBF0F8\"},\"line\":{\"color\":\"white\"}},\"header\":{\"fill\":{\"color\":\"#C8D4E3\"},\"line\":{\"color\":\"white\"}},\"type\":\"table\"}],\"barpolar\":[{\"marker\":{\"line\":{\"color\":\"#E5ECF6\",\"width\":0.5},\"pattern\":{\"fillmode\":\"overlay\",\"size\":10,\"solidity\":0.2}},\"type\":\"barpolar\"}],\"pie\":[{\"automargin\":true,\"type\":\"pie\"}]},\"layout\":{\"autotypenumbers\":\"strict\",\"colorway\":[\"#636efa\",\"#EF553B\",\"#00cc96\",\"#ab63fa\",\"#FFA15A\",\"#19d3f3\",\"#FF6692\",\"#B6E880\",\"#FF97FF\",\"#FECB52\"],\"font\":{\"color\":\"#2a3f5f\"},\"hovermode\":\"closest\",\"hoverlabel\":{\"align\":\"left\"},\"paper_bgcolor\":\"white\",\"plot_bgcolor\":\"#E5ECF6\",\"polar\":{\"bgcolor\":\"#E5ECF6\",\"angularaxis\":{\"gridcolor\":\"white\",\"linecolor\":\"white\",\"ticks\":\"\"},\"radialaxis\":{\"gridcolor\":\"white\",\"linecolor\":\"white\",\"ticks\":\"\"}},\"ternary\":{\"bgcolor\":\"#E5ECF6\",\"aaxis\":{\"gridcolor\":\"white\",\"linecolor\":\"white\",\"ticks\":\"\"},\"baxis\":{\"gridcolor\":\"white\",\"linecolor\":\"white\",\"ticks\":\"\"},\"caxis\":{\"gridcolor\":\"white\",\"linecolor\":\"white\",\"ticks\":\"\"}},\"coloraxis\":{\"colorbar\":{\"outlinewidth\":0,\"ticks\":\"\"}},\"colorscale\":{\"sequential\":[[0.0,\"#0d0887\"],[0.1111111111111111,\"#46039f\"],[0.2222222222222222,\"#7201a8\"],[0.3333333333333333,\"#9c179e\"],[0.4444444444444444,\"#bd3786\"],[0.5555555555555556,\"#d8576b\"],[0.6666666666666666,\"#ed7953\"],[0.7777777777777778,\"#fb9f3a\"],[0.8888888888888888,\"#fdca26\"],[1.0,\"#f0f921\"]],\"sequentialminus\":[[0.0,\"#0d0887\"],[0.1111111111111111,\"#46039f\"],[0.2222222222222222,\"#7201a8\"],[0.3333333333333333,\"#9c179e\"],[0.4444444444444444,\"#bd3786\"],[0.5555555555555556,\"#d8576b\"],[0.6666666666666666,\"#ed7953\"],[0.7777777777777778,\"#fb9f3a\"],[0.8888888888888888,\"#fdca26\"],[1.0,\"#f0f921\"]],\"diverging\":[[0,\"#8e0152\"],[0.1,\"#c51b7d\"],[0.2,\"#de77ae\"],[0.3,\"#f1b6da\"],[0.4,\"#fde0ef\"],[0.5,\"#f7f7f7\"],[0.6,\"#e6f5d0\"],[0.7,\"#b8e186\"],[0.8,\"#7fbc41\"],[0.9,\"#4d9221\"],[1,\"#276419\"]]},\"xaxis\":{\"gridcolor\":\"white\",\"linecolor\":\"white\",\"ticks\":\"\",\"title\":{\"standoff\":15},\"zerolinecolor\":\"white\",\"automargin\":true,\"zerolinewidth\":2},\"yaxis\":{\"gridcolor\":\"white\",\"linecolor\":\"white\",\"ticks\":\"\",\"title\":{\"standoff\":15},\"zerolinecolor\":\"white\",\"automargin\":true,\"zerolinewidth\":2},\"scene\":{\"xaxis\":{\"backgroundcolor\":\"#E5ECF6\",\"gridcolor\":\"white\",\"linecolor\":\"white\",\"showbackground\":true,\"ticks\":\"\",\"zerolinecolor\":\"white\",\"gridwidth\":2},\"yaxis\":{\"backgroundcolor\":\"#E5ECF6\",\"gridcolor\":\"white\",\"linecolor\":\"white\",\"showbackground\":true,\"ticks\":\"\",\"zerolinecolor\":\"white\",\"gridwidth\":2},\"zaxis\":{\"backgroundcolor\":\"#E5ECF6\",\"gridcolor\":\"white\",\"linecolor\":\"white\",\"showbackground\":true,\"ticks\":\"\",\"zerolinecolor\":\"white\",\"gridwidth\":2}},\"shapedefaults\":{\"line\":{\"color\":\"#2a3f5f\"}},\"annotationdefaults\":{\"arrowcolor\":\"#2a3f5f\",\"arrowhead\":0,\"arrowwidth\":1},\"geo\":{\"bgcolor\":\"white\",\"landcolor\":\"#E5ECF6\",\"subunitcolor\":\"white\",\"showland\":true,\"showlakes\":true,\"lakecolor\":\"white\"},\"title\":{\"x\":0.05},\"mapbox\":{\"style\":\"light\"}}}},                        {\"responsive\": true}                    ).then(function(){\n",
       "                            \n",
       "var gd = document.getElementById('f7ff55d8-9b04-458a-9abf-1bdd0dbf3107');\n",
       "var x = new MutationObserver(function (mutations, observer) {{\n",
       "        var display = window.getComputedStyle(gd).display;\n",
       "        if (!display || display === 'none') {{\n",
       "            console.log([gd, 'removed!']);\n",
       "            Plotly.purge(gd);\n",
       "            observer.disconnect();\n",
       "        }}\n",
       "}});\n",
       "\n",
       "// Listen for the removal of the full notebook cells\n",
       "var notebookContainer = gd.closest('#notebook-container');\n",
       "if (notebookContainer) {{\n",
       "    x.observe(notebookContainer, {childList: true});\n",
       "}}\n",
       "\n",
       "// Listen for the clearing of the current output cell\n",
       "var outputEl = gd.closest('.output');\n",
       "if (outputEl) {{\n",
       "    x.observe(outputEl, {childList: true});\n",
       "}}\n",
       "\n",
       "                        })                };                });            </script>        </div>"
      ]
     },
     "metadata": {},
     "output_type": "display_data"
    }
   ],
   "source": [
    "dataset = '16S'\n",
    "station_id = '093.3 030.0'\n",
    "sample_type = 'Surf'\n",
    "stacked_bar_figs[station_id][sample_type][dataset]"
   ]
  },
  {
   "cell_type": "code",
   "execution_count": 182,
   "metadata": {},
   "outputs": [],
   "source": [
    "dataset = '16S'\n",
    "station_id = '093.3 030.0'\n",
    "sample_type = 'Surf'\n",
    "station_data = data_meta[(data_meta['Sta_ID'] == station_id) & (data_meta['sample_type'] == sample_type)]\n",
    "station_samples = station_data['sampleid'].tolist()\n",
    "if dataset == '16S':\n",
    "    taxa_col_names = ['Domain', 'Phylum', 'Class', 'Order', 'Family', 'Genus', 'Species']\n",
    "    asv_cols = pd.Series(data_16S.columns).isin(station_samples).values\n",
    "    if np.sum(asv_cols) == 0:\n",
    "        empty_fig = go.Figure(\n",
    "            data=[\n",
    "                go.Bar(name='Group 1', x=['No Samples'], y=[1], offsetgroup=1),\n",
    "                go.Bar(name='Group 2', x=['No Samples'], y=[1], offsetgroup=1, base=[1])\n",
    "            ],\n",
    "            layout=go.Layout(\n",
    "                title=f'Station {station_id} phyla distribution per sample',\n",
    "                yaxis_title='Relative Abundance', height=600, width=600\n",
    "            )\n",
    "        )\n",
    "        stacked_bar_figs[station_id][sample_type][dataset] = empty_fig\n",
    "\n",
    "    asv_cols[0] = True\n",
    "    station_asvs = pd.concat([data_16S.loc[:,asv_cols], data_16S['silva_Taxon']], axis=1)\n",
    "\n",
    "    # Get relative abundances\n",
    "    values = station_asvs.drop(['Feature.ID', 'silva_Taxon'], axis=1).fillna(0)\n",
    "    values = values / values.sum()\n",
    "\n",
    "    # Count occurrences of each taxonomy category\n",
    "    taxonomies = station_asvs['silva_Taxon'].str.split('; ', expand=True)\n",
    "    taxonomies.columns = taxa_col_names\n",
    "    taxonomies = taxonomies.fillna('___Undetermined')[['Phylum', 'Class']]\n",
    "\n",
    "    # get rid of the silva d__, p__, etc prefixes\n",
    "    for col in taxonomies.columns:\n",
    "        taxonomies[col] = taxonomies[col].apply(lambda x: x[3:])\n",
    "\n",
    "    # Get relative abundances of top phyla / special classes\n",
    "    taxonomies = pd.concat([taxonomies, values], axis=1)\n",
    "    phyla_counts = taxonomies.groupby('Phylum').sum()\n",
    "    for phylum in top_10_phyla_16S:\n",
    "        if phylum not in phyla_counts.index:\n",
    "            phyla_counts.loc[phylum] = 0\n",
    "    top_phyla_counts = phyla_counts.loc[top_10_phyla_16S]\n",
    "    other_phyla_counts = phyla_counts[(\n",
    "        (phyla_counts.index != 'Undetermined') & (~phyla_counts.index.isin(top_10_phyla_16S))\n",
    "    )].sum()\n",
    "    top_phyla_counts.loc['Other'] = other_phyla_counts\n",
    "    top_phyla_counts.loc['Undetermined'] = phyla_counts.loc['Undetermined']\n",
    "\n",
    "    # Create stacked bar figure\n",
    "    base = top_phyla_counts.loc[top_phyla_counts.index[0]].copy()\n",
    "    stacked_bar_labels = top_phyla_counts.columns\n",
    "    fig_data = [go.Bar(\n",
    "        name=top_phyla_counts.index[0],\n",
    "        x=stacked_bar_labels,\n",
    "        y=base,\n",
    "        customdata=base.copy(),\n",
    "        marker=go.bar.Marker(color=colors_16S[top_phyla_counts.index[0]]),\n",
    "        hovertemplate='Rel. Abundance:%{customdata:.3f}',\n",
    "        offsetgroup=1,\n",
    "    )]\n",
    "    for phyla in top_phyla_counts.index[1:]:\n",
    "        vals = top_phyla_counts.loc[phyla]\n",
    "        fig_data.append(go.Bar(\n",
    "            name=phyla,\n",
    "            x=stacked_bar_labels,\n",
    "            y=vals,\n",
    "            marker=go.bar.Marker(color=colors_16S[phyla]),\n",
    "            customdata=vals.copy(),\n",
    "            hovertemplate='Rel. Abundance:%{customdata:.3f}',\n",
    "            offsetgroup=1,\n",
    "            base=base\n",
    "        ))\n",
    "        base += vals\n",
    "    stacked_bar_fig = go.Figure(\n",
    "        data=fig_data,\n",
    "        layout=go.Layout(\n",
    "            title=f'Station {station_id} phyla distribution per sample',\n",
    "            yaxis_title='Relative abundance'\n",
    "        )\n",
    "    )\n",
    "    stacked_bar_figs[station_id][sample_type][dataset] =  stacked_bar_fig\n",
    "stacked_bar_figs[station_id][sample_type][dataset].show()"
   ]
  },
  {
   "cell_type": "code",
   "execution_count": 195,
   "metadata": {},
   "outputs": [
    {
     "data": {
      "text/html": [
       "\n",
       "        <iframe\n",
       "            width=\"100%\"\n",
       "            height=\"650\"\n",
       "            src=\"http://127.0.0.1:8050/\"\n",
       "            frameborder=\"0\"\n",
       "            allowfullscreen\n",
       "        ></iframe>\n",
       "        "
      ],
      "text/plain": [
       "<IPython.lib.display.IFrame at 0x1eda42e7f10>"
      ]
     },
     "metadata": {},
     "output_type": "display_data"
    }
   ],
   "source": [
    "app = dash.Dash(__name__, external_stylesheets=[dbc.themes.BOOTSTRAP])\n",
    "app.layout = dbc.Container([\n",
    "    html.H1(\"Marine microbial life at California coastal stations\", className=\"mt-4 mb-4\"),\n",
    "    dbc.Row([\n",
    "        html.Div([\n",
    "            html.Label('Sample Type:'),\n",
    "            dcc.Dropdown(sample_type_vals, sample_type_vals[0], id='sample-type-dropdown')\n",
    "        ])\n",
    "    ]),\n",
    "    dbc.Row([\n",
    "        dbc.Col([\n",
    "            html.Div([\n",
    "                html.Label('Environmental Variable (Color):'),\n",
    "                dcc.Dropdown(env_var_cols, 'NCDepth', id='env-var-dropdown')\n",
    "            ], className=\"env-var-dropdown\"),\n",
    "            html.Div([\n",
    "                dcc.Graph(id='map-graph')\n",
    "            ], className=\"map-graph\"),\n",
    "        ], width=5),\n",
    "        dbc.Col([\n",
    "            html.Div([\n",
    "                html.Label('Dataset:'),\n",
    "                dcc.Dropdown(['16S', '18Sv4', '18Sv9'], '16S', id='dataset-dropdown')\n",
    "            ]),\n",
    "            html.Div([\n",
    "                dcc.Graph(id='sunburst-graph')\n",
    "            ]),\n",
    "            html.Div([\n",
    "                dcc.Graph(id='stacked-bar-graph')\n",
    "            ])\n",
    "        ], width=5)\n",
    "    ])\n",
    "], fluid=True)\n",
    "\n",
    "\n",
    "# Map graph dropdown callback\n",
    "@app.callback(\n",
    "    Output('map-graph', 'figure'),\n",
    "    [Input('sample-type-dropdown', 'value'),\n",
    "     Input('env-var-dropdown', 'value')]\n",
    ")\n",
    "def update_map(dropdown_sample_type, dropdown_env_var):\n",
    "    return map_figs[dropdown_sample_type][dropdown_env_var]\n",
    "\n",
    "# Map graph click data callback for sunburst\n",
    "@app.callback(\n",
    "    Output('sunburst-graph', 'figure'),\n",
    "    [Input('sample-type-dropdown', 'value'),\n",
    "     Input('map-graph', 'clickData'),\n",
    "     Input('dataset-dropdown', 'value')]\n",
    ")\n",
    "def update_sunburst(dropdown_sample_type, click_data, dropdown_dataset):\n",
    "    if click_data is None:\n",
    "        station_id = data_meta['Sta_ID'].iloc[0]\n",
    "    # Get station ID from hover data\n",
    "    else:\n",
    "        if 'customdata' not in click_data['points'][0]:\n",
    "            station_id = station_id = data_meta['Sta_ID'].iloc[0]\n",
    "        else:\n",
    "            station_id = click_data['points'][0]['customdata'][0]\n",
    "    return sunburst_figs[station_id][dropdown_sample_type][dropdown_dataset]\n",
    "\n",
    "# Stacked bar callback\n",
    "@app.callback(\n",
    "    Output('stacked-bar-graph', 'figure'),\n",
    "    [Input('map-graph', 'clickData'),\n",
    "     Input('dataset-dropdown', 'value')]\n",
    ")\n",
    "def update_stacked_bar(click_data, dropdown_dataset):\n",
    "    if click_data is None:\n",
    "        station_id = data_meta['Sta_ID'].iloc[0]\n",
    "    # Get station ID from hover data\n",
    "    else:\n",
    "        if 'customdata' not in click_data['points'][0]:\n",
    "            station_id = station_id = data_meta['Sta_ID'].iloc[0]\n",
    "        else:\n",
    "            station_id = click_data['points'][0]['customdata'][0]\n",
    "    return stacked_bar_figs[station_id][dropdown_sample_type][dropdown_dataset]\n",
    "\n",
    "\n",
    "app.run_server(debug=True)\n"
   ]
  },
  {
   "cell_type": "code",
   "execution_count": null,
   "metadata": {},
   "outputs": [],
   "source": [
    "group_colors = {\n",
    "    \n",
    "}\n",
    "for group in groups_above_threshold:\n",
    "stacked_bar_fig = go.Figure(\n",
    "    data=[\n",
    "        go.Bar(\n",
    "            name=\"Model 1\",\n",
    "            x=data[\"labels\"],\n",
    "            y=data[\"model_1\"],\n",
    "            offsetgroup=1,\n",
    "        ),\n",
    "        go.Bar(\n",
    "            name=\"Model 2\",\n",
    "            x=data[\"labels\"],\n",
    "            y=data[\"model_2\"],\n",
    "            offsetgroup=1,\n",
    "            base=data[\"model_1\"], \n",
    "        )\n",
    "    ],\n",
    "    layout=go.Layout(\n",
    "        title=\"Issue Types - Original and Models\",\n",
    "        yaxis_title=\"Number of Issues\"\n",
    "    )\n",
    ")\n",
    "fig3.show()"
   ]
  },
  {
   "cell_type": "code",
   "execution_count": null,
   "metadata": {},
   "outputs": [],
   "source": [
    "map_figs['DCM']['T_degC'].update_layout(\n",
    "    autosize=True,\n",
    "    margin=dict(l=10,r=10,b=10,t=10,pad=3),\n",
    "    paper_bgcolor=\"LightSteelBlue\",\n",
    ")\n",
    "map_figs['DCM']['T_degC'].show()"
   ]
  }
 ],
 "metadata": {
  "kernelspec": {
   "display_name": "Python 3",
   "language": "python",
   "name": "python3"
  },
  "language_info": {
   "codemirror_mode": {
    "name": "ipython",
    "version": 3
   },
   "file_extension": ".py",
   "mimetype": "text/x-python",
   "name": "python",
   "nbconvert_exporter": "python",
   "pygments_lexer": "ipython3",
   "version": "3.8.5"
  },
  "varInspector": {
   "cols": {
    "lenName": 16,
    "lenType": 16,
    "lenVar": 40
   },
   "kernels_config": {
    "python": {
     "delete_cmd_postfix": "",
     "delete_cmd_prefix": "del ",
     "library": "var_list.py",
     "varRefreshCmd": "print(var_dic_list())"
    },
    "r": {
     "delete_cmd_postfix": ") ",
     "delete_cmd_prefix": "rm(",
     "library": "var_list.r",
     "varRefreshCmd": "cat(var_dic_list()) "
    }
   },
   "types_to_exclude": [
    "module",
    "function",
    "builtin_function_or_method",
    "instance",
    "_Feature"
   ],
   "window_display": false
  }
 },
 "nbformat": 4,
 "nbformat_minor": 4
}
