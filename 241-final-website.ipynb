{
 "cells": [
  {
   "cell_type": "code",
   "execution_count": 1,
   "metadata": {},
   "outputs": [],
   "source": [
    "import pandas as pd"
   ]
  },
  {
   "cell_type": "code",
   "execution_count": 2,
   "metadata": {},
   "outputs": [],
   "source": [
    "data_16S = pd.read_csv('NCOG_21_16S_redo2_asv_count_tax.tsv', sep='\\t')\n",
    "data_18Sv4 = pd.read_csv('NCOG_18sV4_asv_count_tax.tsv', sep='\\t')\n",
    "data_18Sv9 = pd.read_csv('NCOG_18sV9_asv_count_tax_S.tsv', sep='\\t')\n",
    "data_meta = pd.read_csv('NCOG_sample_log_DNA_stvx_meta_2014-2020_mod.tsv', sep='\\t')\n",
    "data_meta['sampleid'] = data_meta['sampleid'].apply(lambda x: 'X' + x)"
   ]
  },
  {
   "cell_type": "code",
   "execution_count": 3,
   "metadata": {},
   "outputs": [
    {
     "data": {
      "text/plain": [
       "sample_type\n",
       "Surf    772\n",
       "DCM     702\n",
       "515       7\n",
       "170       5\n",
       "Name: count, dtype: int64"
      ]
     },
     "execution_count": 3,
     "metadata": {},
     "output_type": "execute_result"
    }
   ],
   "source": [
    "data_meta['sample_type'].value_counts()"
   ]
  },
  {
   "cell_type": "markdown",
   "metadata": {},
   "source": [
    "## Sample types:\n",
    "### 'Surf' IQR: 10-10 m\n",
    "### 'DCM' IQR: 30-75 m\n",
    "### 515: 515 m\n",
    "### 170: 170 m"
   ]
  },
  {
   "cell_type": "code",
   "execution_count": 4,
   "metadata": {},
   "outputs": [
    {
     "name": "stdout",
     "output_type": "stream",
     "text": [
      "Pre-computing 1092 Sunburst Figures\n",
      "Finished: 100.00%\n"
     ]
    }
   ],
   "source": [
    "import dash\n",
    "from dash import dcc, html\n",
    "from dash.dependencies import Input, Output\n",
    "import dash_bootstrap_components as dbc\n",
    "import plotly.graph_objs as go\n",
    "import pandas as pd\n",
    "import numpy as np\n",
    "import plotly.express as px\n",
    "import os\n",
    "import sys\n",
    "from dotenv import load_dotenv\n",
    "load_dotenv()\n",
    "\n",
    "px.set_mapbox_access_token(os.getenv('MAPBOX_ACCESS_TOKEN'))\n",
    "\n",
    "# Load data\n",
    "data_16S = pd.read_csv('NCOG_21_16S_redo2_asv_count_tax.tsv', sep='\\t')\n",
    "data_18Sv4 = pd.read_csv('NCOG_18sV4_asv_count_tax.tsv', sep='\\t')\n",
    "data_18Sv9 = pd.read_csv('NCOG_18sV9_asv_count_tax_S.tsv', sep='\\t')\n",
    "data_meta = pd.read_csv('NCOG_sample_log_DNA_stvx_meta_2014-2020_mod.tsv', sep='\\t')\n",
    "\n",
    "# Add X before metadata sampleids to match 16S and 18S sample ids\n",
    "data_meta['sampleid'] = data_meta['sampleid'].apply(lambda x: 'X' + x)\n",
    "\n",
    "# Lat and Lon center for plots\n",
    "cal_coast_center = dict(\n",
    "    lat=np.mean([min(data_meta['Lat_Dec']), max(data_meta['Lat_Dec'])]),\n",
    "    lon=np.mean([min(data_meta['Lon_Dec']), max(data_meta['Lon_Dec'])])\n",
    ")\n",
    "\n",
    "# Environmental variables and sample types\n",
    "env_var_cols = ['T_degC', 'Salnty', 'O2ml_L', 'PO4ug', 'SiO3ug', 'NO3ug', 'NH3ug', 'ChlorA', 'IntC14', 'NCDepth']\n",
    "sample_type_vals = data_meta['sample_type'].dropna().unique()\n",
    "\n",
    "# precompute map figures for different sample types and environmental variables\n",
    "map_figs = {sample_type: {} for sample_type in data_meta['sample_type'].dropna().unique()}\n",
    "for sample_type in data_meta['sample_type'].dropna().unique():\n",
    "    for env_var in env_var_cols:\n",
    "        meta_subset = data_meta[data_meta['sample_type'] == sample_type]\n",
    "        meta_subset = meta_subset[['Sta_ID', 'Lat_Dec', 'Lon_Dec', 'sample_type', env_var]].groupby('Sta_ID').agg({\n",
    "            'Lat_Dec': 'min',\n",
    "            'Lon_Dec': 'min',\n",
    "            'sample_type': 'count',\n",
    "            env_var: 'mean'\n",
    "        }).rename({'sample_type': 'Number of Samples'}, axis=1).reset_index()\n",
    "        hover_names = meta_subset['Sta_ID'].apply(lambda x: '<b>Station: </b>' + x)\n",
    "        subset_fig = px.scatter_mapbox(meta_subset, lat='Lat_Dec', lon='Lon_Dec', center=cal_coast_center,\n",
    "                                       color=env_var, hover_name=hover_names, hover_data='Number of Samples', #size=\"num_samples\",\n",
    "                                       color_continuous_scale='viridis', size_max=15, zoom=4.5, mapbox_style='outdoors',\n",
    "                                       width=600, height=700, custom_data='Sta_ID')\n",
    "        map_figs[sample_type][env_var] = subset_fig\n",
    "\n",
    "# empty sunburst figure for if the station has no data with the selected sample type\n",
    "empty_sunburst_data = {'Phylum': [], 'Class': [], 'Order': []}\n",
    "for parent in ['Undetermined_1', 'Undetermined_2', 'Undetermined_3']:\n",
    "    for child1 in ['Undetermined_1', 'Undetermined_2', 'Undetermined_3']:\n",
    "        for child2 in ['Undetermined_1', 'Undetermined_2', 'Undetermined_3']:\n",
    "            empty_sunburst_data['Phylum'].append(parent)\n",
    "            empty_sunburst_data['Class'].append(child1)\n",
    "            empty_sunburst_data['Order'].append(child2)\n",
    "empty_sunburst_fig = px.sunburst(empty_sunburst_data, path=['Phylum', 'Class', 'Order'])\n",
    "\n",
    "# precompute sunburst figures for every station id, sample type, dataset combination\n",
    "counter = 0\n",
    "total_computing = len(data_meta['Sta_ID'].dropna().unique()) * len(data_meta['sample_type'].dropna().unique()) * 3\n",
    "print(f'Pre-computing {total_computing} Sunburst Figures')\n",
    "sunburst_figs = {station_id: {} for station_id in data_meta['Sta_ID'].dropna().unique()}\n",
    "taxonomies_all = {station_id: {} for station_id in data_meta['Sta_ID'].dropna().unique()}\n",
    "for station_id in data_meta['Sta_ID'].dropna().unique():\n",
    "    for sample_type in data_meta['sample_type'].dropna().unique():\n",
    "        sunburst_figs[station_id][sample_type] = {}\n",
    "        taxonomies_all[station_id][sample_type] = {}\n",
    "        for dataset in ['16S', '18Sv4', '18Sv9']:\n",
    "            cols_show_in_sunburst = ['Phylum', 'Class', 'Order']\n",
    "            station_data = data_meta[(data_meta['Sta_ID'] == station_id) & (data_meta['sample_type'] == sample_type)]\n",
    "            station_samples = station_data['sampleid'].tolist()\n",
    "            if dataset =='16S':\n",
    "                taxa_col_names = ['Domain', 'Phylum', 'Class', 'Order', 'Family', 'Genus', 'Species']\n",
    "\n",
    "                # Merge with 16S dataframe to get taxonomy data for the samples\n",
    "                asv_cols = pd.Series(data_16S.columns).isin(station_samples).values\n",
    "                if np.sum(asv_cols) == 0: # If there are no samples for the sample_type at the station\n",
    "                    # set the figure to an empty figure\n",
    "                    title = f'No {sample_type} samples for station \"{station_id}\"'\n",
    "                    fig = px.sunburst(empty_sunburst_data, path=['Phylum', 'Class', 'Order'], title=title)\n",
    "                    sunburst_figs[station_id][sample_type][dataset] = fig\n",
    "                    continue\n",
    "                asv_cols[0] = True\n",
    "                station_asvs = pd.concat([data_16S.loc[:,asv_cols], data_16S['silva_Taxon']], axis=1)\n",
    "\n",
    "                # Get relative abundances\n",
    "                values = station_asvs.drop(['Feature.ID', 'silva_Taxon'], axis=1).fillna(0).sum(axis=1)\n",
    "                #values = values / values.sum()\n",
    "\n",
    "                # Count occurrences of each taxonomy category\n",
    "                taxonomies = station_asvs['silva_Taxon'].str.split('; ', expand=True)\n",
    "                taxonomies.columns = taxa_col_names\n",
    "                taxonomies = taxonomies.dropna(subset=cols_show_in_sunburst[0]).fillna('___Undetermined')[cols_show_in_sunburst]\n",
    "\n",
    "                # get rid of the silva d__, p__, etc prefixes\n",
    "                for col in taxonomies.columns:\n",
    "                    taxonomies[col] = taxonomies[col].apply(lambda x: x[3:])\n",
    "\n",
    "                # Get relative abundances\n",
    "                taxonomies['abundance_values'] = values\n",
    "                taxonomies = taxonomies[taxonomies['abundance_values'] != 0]\n",
    "\n",
    "                # set title of plot\n",
    "                title = '16S Silva Taxonomy, Station \"' + station_id + '\"'\n",
    "            elif dataset == '18Sv4':\n",
    "                taxa_col_names = ['Kingdom', 'Domain', 'Phylum', 'Class', 'Order', 'Family', 'Genus', 'Species']\n",
    "                # Merge with 18Sv4 dataframe to get taxonomy data for the samples\n",
    "                asv_cols = pd.Series(data_18Sv4.columns).isin(station_samples).values\n",
    "                if np.sum(asv_cols) == 0: # If there are no samples for the sample_type at the station\n",
    "                    # set the figure to an empty figure\n",
    "                    title = f'No {sample_type} samples for station \"{station_id}\"'\n",
    "                    fig = px.sunburst(empty_sunburst_data, path=['Phylum', 'Class', 'Order'], title=title)\n",
    "                    sunburst_figs[station_id][sample_type][dataset] = fig\n",
    "                    continue\n",
    "                asv_cols[0] = True\n",
    "                station_asvs = pd.concat([data_18Sv4.loc[:,asv_cols], data_18Sv4['pr2_Taxon']], axis=1)\n",
    "\n",
    "                # Get relative abundances\n",
    "                values = station_asvs.drop(['Feature.ID', 'pr2_Taxon'], axis=1).fillna(0).sum(axis=1)\n",
    "                #values = values / values.sum()\n",
    "\n",
    "                # Count occurrences of each taxonomy category\n",
    "                taxonomies = station_asvs['pr2_Taxon'].str.split(';', expand=True)\n",
    "                taxonomies = taxonomies.iloc[:, :8]\n",
    "                taxonomies.columns = taxa_col_names\n",
    "                taxonomies = taxonomies.dropna(subset='Phylum').fillna('Undetermined')[cols_show_in_sunburst]\n",
    "\n",
    "                # Add relative abundances\n",
    "                taxonomies['abundance_values'] = values\n",
    "                taxonomies = taxonomies[taxonomies['abundance_values'] != 0]\n",
    "\n",
    "                # set title of plot\n",
    "                title = '18S v4 PR2 Taxonomy, Station \"' + station_id + '\"'\n",
    "\n",
    "            elif dataset == '18Sv9':\n",
    "                taxa_col_names = ['Kingdom', 'Domain', 'Phylum', 'Class', 'Order', 'Family', 'Genus', 'Species']\n",
    "\n",
    "                # Merge with 18Sv9 dataframe to get taxonomy data for the samples\n",
    "                asv_cols = pd.Series(data_18Sv9.columns).isin(station_samples).values\n",
    "                if np.sum(asv_cols) == 0: # If there are no samples for the sample_type at the station\n",
    "                    # set the figure to an empty figure\n",
    "                    title = f'No {sample_type} samples for station \"{station_id}\"'\n",
    "                    fig = px.sunburst(empty_sunburst_data, path=['Phylum', 'Class', 'Order'], title=title)\n",
    "                    sunburst_figs[station_id][sample_type][dataset] = fig\n",
    "                    continue\n",
    "                asv_cols[0] = True\n",
    "                station_asvs = pd.concat([data_18Sv9.loc[:,asv_cols], data_18Sv9['pr2_Taxon']], axis=1)\n",
    "\n",
    "                # Get relative abundances\n",
    "                values = station_asvs.drop(['Feature.ID', 'pr2_Taxon'], axis=1).fillna(0).sum(axis=1)\n",
    "                #values = values / values.sum()\n",
    "\n",
    "                # Count occurrences of each taxonomy category\n",
    "                taxonomies = station_asvs['pr2_Taxon'].str.split(';', expand=True)\n",
    "                taxonomies = taxonomies.iloc[:, :8]\n",
    "                taxonomies.columns = taxa_col_names\n",
    "                taxonomies = taxonomies.dropna(subset='Phylum').fillna('Undetermined')[cols_show_in_sunburst]\n",
    "\n",
    "                # Add relative abundances\n",
    "                taxonomies['abundance_values'] = values\n",
    "                taxonomies = taxonomies[taxonomies['abundance_values'] != 0]\n",
    "\n",
    "                # set title of plot\n",
    "                title = '18S v9 PR2 Taxonomy, Station \"' + station_id + '\"'\n",
    "            taxonomies['relative_abundance'] = taxonomies['abundance_values'] / taxonomies['abundance_values'].sum()\n",
    "            taxonomies['relative_abundance'] = (taxonomies['relative_abundance'] * 100).round(2)\n",
    "            fig = px.sunburst(taxonomies, path=['Phylum', 'Class', 'Order'], values='relative_abundance',\n",
    "                              title=title)\n",
    "            taxonomies_all[station_id][sample_type][dataset] = taxonomies\n",
    "            sunburst_figs[station_id][sample_type][dataset] = fig\n",
    "        counter += 3\n",
    "        print('Finished: {0:.2f}%'.format(100 * counter / total_computing), end='\\r')\n",
    "print()\n"
   ]
  },
  {
   "cell_type": "markdown",
   "metadata": {},
   "source": [
    "# Create stacked bar "
   ]
  },
  {
   "cell_type": "code",
   "execution_count": 11,
   "metadata": {},
   "outputs": [
    {
     "data": {
      "text/html": [
       "<div>\n",
       "<style scoped>\n",
       "    .dataframe tbody tr th:only-of-type {\n",
       "        vertical-align: middle;\n",
       "    }\n",
       "\n",
       "    .dataframe tbody tr th {\n",
       "        vertical-align: top;\n",
       "    }\n",
       "\n",
       "    .dataframe thead th {\n",
       "        text-align: right;\n",
       "    }\n",
       "</style>\n",
       "<table border=\"1\" class=\"dataframe\">\n",
       "  <thead>\n",
       "    <tr style=\"text-align: right;\">\n",
       "      <th></th>\n",
       "      <th>Phylum</th>\n",
       "      <th>Class</th>\n",
       "      <th>Order</th>\n",
       "      <th>abundance_values</th>\n",
       "      <th>relative_abundance</th>\n",
       "    </tr>\n",
       "  </thead>\n",
       "  <tbody>\n",
       "    <tr>\n",
       "      <th>16</th>\n",
       "      <td>Proteobacteria</td>\n",
       "      <td>Gammaproteobacteria</td>\n",
       "      <td>HgCo23</td>\n",
       "      <td>66</td>\n",
       "      <td>0.04</td>\n",
       "    </tr>\n",
       "    <tr>\n",
       "      <th>54</th>\n",
       "      <td>Marinimicrobia_(SAR406_clade)</td>\n",
       "      <td>Marinimicrobia_(SAR406_clade)</td>\n",
       "      <td>Marinimicrobia_(SAR406_clade)</td>\n",
       "      <td>9</td>\n",
       "      <td>0.01</td>\n",
       "    </tr>\n",
       "    <tr>\n",
       "      <th>100</th>\n",
       "      <td>Proteobacteria</td>\n",
       "      <td>Alphaproteobacteria</td>\n",
       "      <td>Puniceispirillales</td>\n",
       "      <td>78</td>\n",
       "      <td>0.05</td>\n",
       "    </tr>\n",
       "    <tr>\n",
       "      <th>121</th>\n",
       "      <td>Proteobacteria</td>\n",
       "      <td>Gammaproteobacteria</td>\n",
       "      <td>SAR86_clade</td>\n",
       "      <td>43</td>\n",
       "      <td>0.03</td>\n",
       "    </tr>\n",
       "    <tr>\n",
       "      <th>175</th>\n",
       "      <td>Thermoplasmatota</td>\n",
       "      <td>Thermoplasmata</td>\n",
       "      <td>Marine_Group_II</td>\n",
       "      <td>841</td>\n",
       "      <td>0.52</td>\n",
       "    </tr>\n",
       "    <tr>\n",
       "      <th>...</th>\n",
       "      <td>...</td>\n",
       "      <td>...</td>\n",
       "      <td>...</td>\n",
       "      <td>...</td>\n",
       "      <td>...</td>\n",
       "    </tr>\n",
       "    <tr>\n",
       "      <th>28815</th>\n",
       "      <td>Marinimicrobia_(SAR406_clade)</td>\n",
       "      <td>Marinimicrobia_(SAR406_clade)</td>\n",
       "      <td>Marinimicrobia_(SAR406_clade)</td>\n",
       "      <td>596</td>\n",
       "      <td>0.37</td>\n",
       "    </tr>\n",
       "    <tr>\n",
       "      <th>28830</th>\n",
       "      <td>Verrucomicrobiota</td>\n",
       "      <td>Verrucomicrobiae</td>\n",
       "      <td>Opitutales</td>\n",
       "      <td>3</td>\n",
       "      <td>0.00</td>\n",
       "    </tr>\n",
       "    <tr>\n",
       "      <th>28834</th>\n",
       "      <td>Bacteroidota</td>\n",
       "      <td>Bacteroidia</td>\n",
       "      <td>Flavobacteriales</td>\n",
       "      <td>27</td>\n",
       "      <td>0.02</td>\n",
       "    </tr>\n",
       "    <tr>\n",
       "      <th>28838</th>\n",
       "      <td>Proteobacteria</td>\n",
       "      <td>Alphaproteobacteria</td>\n",
       "      <td>SAR11_clade</td>\n",
       "      <td>37</td>\n",
       "      <td>0.02</td>\n",
       "    </tr>\n",
       "    <tr>\n",
       "      <th>28839</th>\n",
       "      <td>Cyanobacteria</td>\n",
       "      <td>Cyanobacteriia</td>\n",
       "      <td>Chloroplast</td>\n",
       "      <td>982</td>\n",
       "      <td>0.61</td>\n",
       "    </tr>\n",
       "  </tbody>\n",
       "</table>\n",
       "<p>1305 rows × 5 columns</p>\n",
       "</div>"
      ],
      "text/plain": [
       "                              Phylum                          Class  \\\n",
       "16                    Proteobacteria            Gammaproteobacteria   \n",
       "54     Marinimicrobia_(SAR406_clade)  Marinimicrobia_(SAR406_clade)   \n",
       "100                   Proteobacteria            Alphaproteobacteria   \n",
       "121                   Proteobacteria            Gammaproteobacteria   \n",
       "175                 Thermoplasmatota                 Thermoplasmata   \n",
       "...                              ...                            ...   \n",
       "28815  Marinimicrobia_(SAR406_clade)  Marinimicrobia_(SAR406_clade)   \n",
       "28830              Verrucomicrobiota               Verrucomicrobiae   \n",
       "28834                   Bacteroidota                    Bacteroidia   \n",
       "28838                 Proteobacteria            Alphaproteobacteria   \n",
       "28839                  Cyanobacteria                 Cyanobacteriia   \n",
       "\n",
       "                               Order  abundance_values  relative_abundance  \n",
       "16                            HgCo23                66                0.04  \n",
       "54     Marinimicrobia_(SAR406_clade)                 9                0.01  \n",
       "100               Puniceispirillales                78                0.05  \n",
       "121                      SAR86_clade                43                0.03  \n",
       "175                  Marine_Group_II               841                0.52  \n",
       "...                              ...               ...                 ...  \n",
       "28815  Marinimicrobia_(SAR406_clade)               596                0.37  \n",
       "28830                     Opitutales                 3                0.00  \n",
       "28834               Flavobacteriales                27                0.02  \n",
       "28838                    SAR11_clade                37                0.02  \n",
       "28839                    Chloroplast               982                0.61  \n",
       "\n",
       "[1305 rows x 5 columns]"
      ]
     },
     "execution_count": 11,
     "metadata": {},
     "output_type": "execute_result"
    }
   ],
   "source": [
    "taxonomies_all['093.3 030.0']['DCM']['16S']"
   ]
  },
  {
   "cell_type": "code",
   "execution_count": null,
   "metadata": {},
   "outputs": [],
   "source": [
    "app = dash.Dash(__name__, external_stylesheets=[dbc.themes.BOOTSTRAP])\n",
    "app.layout = dbc.Container([\n",
    "    html.H1(\"Marine microbial life at California coastal stations\", className=\"mt-4 mb-4\"),\n",
    "    dbc.Row([\n",
    "        html.Div([\n",
    "            html.Label('Sample Type:'),\n",
    "            dcc.Dropdown(sample_type_vals, sample_type_vals[0], id='sample-type-dropdown')\n",
    "        ])\n",
    "    ]),\n",
    "    dbc.Row([\n",
    "        dbc.Col([\n",
    "            html.Div([\n",
    "                html.Label('Environmental Variable (Color):'),\n",
    "                dcc.Dropdown(env_var_cols, 'NCDepth', id='env-var-dropdown')\n",
    "            ], className=\"env-var-dropdown\"),\n",
    "            html.Div([\n",
    "                dcc.Graph(id='map-graph')\n",
    "            ], className=\"map-graph\"),\n",
    "        ], width=5),\n",
    "        dbc.Col([\n",
    "            html.Div([\n",
    "                html.Label('Dataset:'),\n",
    "                dcc.Dropdown(['16S', '18Sv4', '18Sv9'], '16S', id='dataset-dropdown')\n",
    "            ]),\n",
    "            html.Div([\n",
    "                dcc.Graph(id='sunburst-graph')\n",
    "            ]),\n",
    "        ], width=5)\n",
    "    ])\n",
    "], fluid=True)\n",
    "\n",
    "\n",
    "# Map graph dropdown callback\n",
    "@app.callback(\n",
    "    Output('map-graph', 'figure'),\n",
    "    [Input('sample-type-dropdown', 'value'),\n",
    "     Input('env-var-dropdown', 'value')]\n",
    ")\n",
    "def update_map(dropdown_sample_type, dropdown_env_var):\n",
    "    return map_figs[dropdown_sample_type][dropdown_env_var]\n",
    "\n",
    "# Map graph click data callback\n",
    "@app.callback(\n",
    "    Output('sunburst-graph', 'figure'),\n",
    "    [Input('sample-type-dropdown', 'value'),\n",
    "     Input('map-graph', 'clickData'),\n",
    "     Input('dataset-dropdown', 'value')]\n",
    ")\n",
    "def update_sunburst(dropdown_sample_type, click_data, dropdown_dataset):\n",
    "    if click_data is None:\n",
    "        station_id = data_meta['Sta_ID'].iloc[0]\n",
    "    # Get station ID from hover data\n",
    "    else:\n",
    "        if 'customdata' not in click_data['points'][0]:\n",
    "            station_id = station_id = data_meta['Sta_ID'].iloc[0]\n",
    "        else:\n",
    "            station_id = click_data['points'][0]['customdata'][0]\n",
    "    testing = (dropdown_sample_type, click_data, dropdown_dataset)\n",
    "    return sunburst_figs[station_id][dropdown_sample_type][dropdown_dataset]\n",
    "\n",
    "# Stacked bar callback\n",
    "@app.callback(\n",
    "    Output('sunburst-graph', 'figure'),\n",
    "    [Input('map-graph', 'clickData'),\n",
    "     Input('dataset-dropdown', 'value')]\n",
    ")\n",
    "def update_sunburst(click_data, dropdown_dataset):\n",
    "    if click_data is None:\n",
    "        station_id = data_meta['Sta_ID'].iloc[0]\n",
    "    # Get station ID from hover data\n",
    "    else:\n",
    "        if 'customdata' not in click_data['points'][0]:\n",
    "            station_id = station_id = data_meta['Sta_ID'].iloc[0]\n",
    "        else:\n",
    "            station_id = click_data['points'][0]['customdata'][0]\n",
    "    \n",
    "    return sunburst_figs[station_id][dropdown_sample_type][dropdown_dataset]\n",
    "\n",
    "\n",
    "app.run_server(debug=True)\n"
   ]
  },
  {
   "cell_type": "code",
   "execution_count": null,
   "metadata": {},
   "outputs": [],
   "source": []
  },
  {
   "cell_type": "code",
   "execution_count": null,
   "metadata": {},
   "outputs": [],
   "source": [
    "group_colors = {\n",
    "    \n",
    "}\n",
    "for group in groups_above_threshold:\n",
    "stacked_bar_fig = go.Figure(\n",
    "    data=[\n",
    "        go.Bar(\n",
    "            name=\"Model 1\",\n",
    "            x=data[\"labels\"],\n",
    "            y=data[\"model_1\"],\n",
    "            offsetgroup=1,\n",
    "        ),\n",
    "        go.Bar(\n",
    "            name=\"Model 2\",\n",
    "            x=data[\"labels\"],\n",
    "            y=data[\"model_2\"],\n",
    "            offsetgroup=1,\n",
    "            base=data[\"model_1\"], \n",
    "        )\n",
    "    ],\n",
    "    layout=go.Layout(\n",
    "        title=\"Issue Types - Original and Models\",\n",
    "        yaxis_title=\"Number of Issues\"\n",
    "    )\n",
    ")\n",
    "fig3.show()"
   ]
  },
  {
   "cell_type": "code",
   "execution_count": 11,
   "metadata": {},
   "outputs": [
    {
     "data": {
      "application/vnd.plotly.v1+json": {
       "config": {
        "plotlyServerURL": "https://plot.ly"
       },
       "data": [
        {
         "customdata": [
          [
           "060.0 060.0",
           1
          ],
          [
           "060.0 070.0",
           1
          ],
          [
           "060.0 080.0",
           1
          ],
          [
           "063.3 052.0",
           1
          ],
          [
           "063.3 055.0",
           1
          ],
          [
           "063.3 060.0",
           1
          ],
          [
           "063.3 070.0",
           2
          ],
          [
           "063.3 080.0",
           1
          ],
          [
           "063.3 090.0",
           2
          ],
          [
           "066.7 055.0",
           1
          ],
          [
           "066.7 060.0",
           1
          ],
          [
           "066.7 080.0",
           2
          ],
          [
           "066.7 090.0",
           2
          ],
          [
           "070.0 051.0",
           1
          ],
          [
           "070.0 080.0",
           1
          ],
          [
           "070.0 090.0",
           1
          ],
          [
           "073.3 070.0",
           1
          ],
          [
           "073.3 080.0",
           1
          ],
          [
           "073.3 090.0",
           1
          ],
          [
           "076.7 049.0",
           4
          ],
          [
           "076.7 051.0",
           3
          ],
          [
           "076.7 055.0",
           4
          ],
          [
           "076.7 060.0",
           6
          ],
          [
           "076.7 070.0",
           8
          ],
          [
           "076.7 080.0",
           11
          ],
          [
           "076.7 090.0",
           4
          ],
          [
           "076.7 100.0",
           9
          ],
          [
           "080.0 051.0",
           3
          ],
          [
           "080.0 055.0",
           16
          ],
          [
           "080.0 060.0",
           6
          ],
          [
           "080.0 070.0",
           32
          ],
          [
           "080.0 080.0",
           29
          ],
          [
           "080.0 090.0",
           7
          ],
          [
           "080.0 100.0",
           32
          ],
          [
           "081.8 046.9",
           23
          ],
          [
           "083.3 042.0",
           8
          ],
          [
           "083.3 051.0",
           5
          ],
          [
           "083.3 055.0",
           3
          ],
          [
           "083.3 060.0",
           3
          ],
          [
           "083.3 070.0",
           3
          ],
          [
           "083.3 080.0",
           12
          ],
          [
           "083.3 090.0",
           9
          ],
          [
           "083.3 100.0",
           5
          ],
          [
           "083.3 110.0",
           8
          ],
          [
           "086.7 033.0",
           7
          ],
          [
           "086.7 035.0",
           6
          ],
          [
           "086.7 040.0",
           8
          ],
          [
           "086.7 045.0",
           8
          ],
          [
           "086.7 050.0",
           3
          ],
          [
           "086.7 055.0",
           2
          ],
          [
           "086.7 060.0",
           4
          ],
          [
           "086.7 070.0",
           14
          ],
          [
           "086.7 080.0",
           8
          ],
          [
           "086.7 090.0",
           4
          ],
          [
           "086.7 100.0",
           8
          ],
          [
           "086.7 110.0",
           11
          ],
          [
           "090.0 028.0",
           6
          ],
          [
           "090.0 030.0",
           6
          ],
          [
           "090.0 035.0",
           6
          ],
          [
           "090.0 037.0",
           38
          ],
          [
           "090.0 045.0",
           7
          ],
          [
           "090.0 053.0",
           33
          ],
          [
           "090.0 060.0",
           7
          ],
          [
           "090.0 070.0",
           34
          ],
          [
           "090.0 080.0",
           8
          ],
          [
           "090.0 090.0",
           34
          ],
          [
           "090.0 100.0",
           5
          ],
          [
           "090.0 110.0",
           7
          ],
          [
           "090.0 120.0",
           35
          ],
          [
           "093.3 026.7",
           19
          ],
          [
           "093.3 030.0",
           5
          ],
          [
           "093.3 035.0",
           1
          ],
          [
           "093.3 040.0",
           2
          ],
          [
           "093.3 045.0",
           20
          ],
          [
           "093.3 050.0",
           5
          ],
          [
           "093.3 055.0",
           2
          ],
          [
           "093.3 060.0",
           7
          ],
          [
           "093.3 070.0",
           6
          ],
          [
           "093.3 080.0",
           18
          ],
          [
           "093.3 090.0",
           3
          ],
          [
           "093.3 100.0",
           9
          ],
          [
           "093.3 110.0",
           5
          ],
          [
           "093.3 120.0",
           15
          ]
         ],
         "hovertemplate": "<b>%{hovertext}</b><br><br>Lat_Dec=%{lat}<br>Lon_Dec=%{lon}<br>Number of Samples=%{customdata[1]}<br>T_degC=%{marker.color}<extra></extra>",
         "hovertext": [
          "<b>Station: </b>060.0 060.0",
          "<b>Station: </b>060.0 070.0",
          "<b>Station: </b>060.0 080.0",
          "<b>Station: </b>063.3 052.0",
          "<b>Station: </b>063.3 055.0",
          "<b>Station: </b>063.3 060.0",
          "<b>Station: </b>063.3 070.0",
          "<b>Station: </b>063.3 080.0",
          "<b>Station: </b>063.3 090.0",
          "<b>Station: </b>066.7 055.0",
          "<b>Station: </b>066.7 060.0",
          "<b>Station: </b>066.7 080.0",
          "<b>Station: </b>066.7 090.0",
          "<b>Station: </b>070.0 051.0",
          "<b>Station: </b>070.0 080.0",
          "<b>Station: </b>070.0 090.0",
          "<b>Station: </b>073.3 070.0",
          "<b>Station: </b>073.3 080.0",
          "<b>Station: </b>073.3 090.0",
          "<b>Station: </b>076.7 049.0",
          "<b>Station: </b>076.7 051.0",
          "<b>Station: </b>076.7 055.0",
          "<b>Station: </b>076.7 060.0",
          "<b>Station: </b>076.7 070.0",
          "<b>Station: </b>076.7 080.0",
          "<b>Station: </b>076.7 090.0",
          "<b>Station: </b>076.7 100.0",
          "<b>Station: </b>080.0 051.0",
          "<b>Station: </b>080.0 055.0",
          "<b>Station: </b>080.0 060.0",
          "<b>Station: </b>080.0 070.0",
          "<b>Station: </b>080.0 080.0",
          "<b>Station: </b>080.0 090.0",
          "<b>Station: </b>080.0 100.0",
          "<b>Station: </b>081.8 046.9",
          "<b>Station: </b>083.3 042.0",
          "<b>Station: </b>083.3 051.0",
          "<b>Station: </b>083.3 055.0",
          "<b>Station: </b>083.3 060.0",
          "<b>Station: </b>083.3 070.0",
          "<b>Station: </b>083.3 080.0",
          "<b>Station: </b>083.3 090.0",
          "<b>Station: </b>083.3 100.0",
          "<b>Station: </b>083.3 110.0",
          "<b>Station: </b>086.7 033.0",
          "<b>Station: </b>086.7 035.0",
          "<b>Station: </b>086.7 040.0",
          "<b>Station: </b>086.7 045.0",
          "<b>Station: </b>086.7 050.0",
          "<b>Station: </b>086.7 055.0",
          "<b>Station: </b>086.7 060.0",
          "<b>Station: </b>086.7 070.0",
          "<b>Station: </b>086.7 080.0",
          "<b>Station: </b>086.7 090.0",
          "<b>Station: </b>086.7 100.0",
          "<b>Station: </b>086.7 110.0",
          "<b>Station: </b>090.0 028.0",
          "<b>Station: </b>090.0 030.0",
          "<b>Station: </b>090.0 035.0",
          "<b>Station: </b>090.0 037.0",
          "<b>Station: </b>090.0 045.0",
          "<b>Station: </b>090.0 053.0",
          "<b>Station: </b>090.0 060.0",
          "<b>Station: </b>090.0 070.0",
          "<b>Station: </b>090.0 080.0",
          "<b>Station: </b>090.0 090.0",
          "<b>Station: </b>090.0 100.0",
          "<b>Station: </b>090.0 110.0",
          "<b>Station: </b>090.0 120.0",
          "<b>Station: </b>093.3 026.7",
          "<b>Station: </b>093.3 030.0",
          "<b>Station: </b>093.3 035.0",
          "<b>Station: </b>093.3 040.0",
          "<b>Station: </b>093.3 045.0",
          "<b>Station: </b>093.3 050.0",
          "<b>Station: </b>093.3 055.0",
          "<b>Station: </b>093.3 060.0",
          "<b>Station: </b>093.3 070.0",
          "<b>Station: </b>093.3 080.0",
          "<b>Station: </b>093.3 090.0",
          "<b>Station: </b>093.3 100.0",
          "<b>Station: </b>093.3 110.0",
          "<b>Station: </b>093.3 120.0"
         ],
         "lat": [
          37.60908,
          37.27973,
          36.94582,
          37.31993,
          37.20998,
          37.04173,
          36.705,
          36.37498,
          36.04242,
          36.61883,
          36.4525,
          35.78542,
          35.44867,
          36.18117,
          35.2147,
          34.87718,
          34.97738,
          34.64067,
          34.31028,
          35.08607,
          35.0221,
          34.88717,
          34.71997,
          34.38418,
          34.0485,
          33.72058,
          33.3808,
          34.44992,
          34.31257,
          34.14697,
          33.81027,
          33.4759,
          33.14367,
          32.811,
          34.27143,
          34.17522,
          33.87432,
          33.744,
          33.57428,
          33.23898,
          32.90838,
          32.57438,
          32.24312,
          31.90733,
          33.88892,
          33.82032,
          33.64858,
          33.48132,
          33.32057,
          33.15653,
          32.98242,
          32.6506,
          32.319,
          31.98983,
          31.64458,
          31.32062,
          33.48133,
          33.41742,
          33.24993,
          33.1795,
          32.90982,
          32.6425,
          32.41513,
          32.07948,
          31.7482,
          31.4021,
          31.079,
          30.74807,
          30.41082,
          32.95213,
          32.84282,
          32.68398,
          32.51317,
          32.33428,
          32.1789,
          32.01298,
          31.84382,
          31.51038,
          31.16067,
          30.8462,
          30.5091,
          30.17322,
          29.84252
         ],
         "legendgroup": "",
         "lon": [
          -123.6015,
          -124.3289,
          -125.04617,
          -122.6046,
          -122.83407,
          -123.1966,
          -123.913,
          -124.62468,
          -125.33708,
          -122.41537,
          -122.7717,
          -124.19728,
          -124.90163,
          -121.72883,
          -123.7805,
          -124.4812,
          -122.66897,
          -123.35943,
          -124.05777,
          -120.7773,
          -120.91707,
          -121.20517,
          -121.56052,
          -122.25687,
          -122.96417,
          -123.64553,
          -124.32503,
          -120.52917,
          -120.81968,
          -121.15517,
          -121.85232,
          -122.5455,
          -123.22168,
          -123.91157,
          -120.03217,
          -119.51288,
          -120.14168,
          -120.43882,
          -120.75783,
          -121.44733,
          -122.1368,
          -122.81682,
          -123.49443,
          -124.174,
          -118.49767,
          -118.6336,
          -118.97767,
          -119.34308,
          -119.66557,
          -120.00682,
          -120.36013,
          -121.04332,
          -121.73482,
          -122.39353,
          -123.07368,
          -123.74557,
          -117.77987,
          -117.90597,
          -118.25283,
          -118.39332,
          -118.93932,
          -119.48572,
          -119.96358,
          -120.65957,
          -121.31732,
          -121.99662,
          -122.66067,
          -123.337,
          -124.003,
          -117.30912,
          -117.5342,
          -117.87083,
          -118.21418,
          -118.56332,
          -118.89342,
          -119.23293,
          -119.58017,
          -120.25123,
          -120.948,
          -121.59112,
          -122.26523,
          -122.92037,
          -123.59717
         ],
         "marker": {
          "color": [
           12.56099987,
           12.91600037,
           13.78100014,
           11.40100002,
           12.23999977,
           12.7670002,
           12.853999609999999,
           12.40600014,
           13.41100025,
           11.82999992,
           12.86400032,
           13.607999804999999,
           14.047999860000001,
           10.41100025,
           13.93400002,
           12.99800014,
           11.44499969,
           12.78800011,
           13.09799957,
           14.691999915,
           13.158333143333335,
           13.70900035,
           13.86433347,
           14.44787490375,
           13.566777652222221,
           13.0882501625,
           14.521444637777778,
           13.325000443333332,
           13.94681250875,
           14.78666671,
           14.363156169375,
           14.41027588724138,
           13.648999895714285,
           14.533968686875,
           14.080391095652173,
           14.9578751325,
           13.650399782,
           13.989999769999999,
           14.238666853333333,
           13.48400021,
           13.873749892500001,
           15.053222337777779,
           15.456200028000001,
           14.6766251325,
           14.621428625714286,
           14.69279995,
           14.39824986375,
           13.8635001175,
           15.858999883333333,
           13.260000224999999,
           14.8207499975,
           14.078214441428571,
           14.54587495375,
           14.376250030000001,
           14.15550005375,
           14.698909413636363,
           14.679833413333334,
           14.640833061666667,
           14.008833410000001,
           14.195526349736841,
           14.519999912857143,
           15.04293930121212,
           15.290428435714286,
           14.553499978235294,
           14.557375072500001,
           14.506272634545455,
           14.700999834000001,
           13.963285855714286,
           14.850285583714285,
           14.496579020526314,
           14.732800104,
           14.81499958,
           14.557499884999999,
           14.8171000485,
           14.348199843999998,
           13.60200024,
           13.864999769999999,
           15.681166808333332,
           14.737000095,
           13.182333309999999,
           14.620222197777776,
           14.463999942000001,
           14.567400106000001
          ],
          "coloraxis": "coloraxis"
         },
         "mode": "markers",
         "name": "",
         "showlegend": false,
         "subplot": "mapbox",
         "type": "scattermapbox"
        }
       ],
       "layout": {
        "autosize": true,
        "coloraxis": {
         "colorbar": {
          "title": {
           "text": "T_degC"
          }
         },
         "colorscale": [
          [
           0,
           "#440154"
          ],
          [
           0.1111111111111111,
           "#482878"
          ],
          [
           0.2222222222222222,
           "#3e4989"
          ],
          [
           0.3333333333333333,
           "#31688e"
          ],
          [
           0.4444444444444444,
           "#26828e"
          ],
          [
           0.5555555555555556,
           "#1f9e89"
          ],
          [
           0.6666666666666666,
           "#35b779"
          ],
          [
           0.7777777777777778,
           "#6ece58"
          ],
          [
           0.8888888888888888,
           "#b5de2b"
          ],
          [
           1,
           "#fde725"
          ]
         ]
        },
        "height": 700,
        "legend": {
         "tracegroupgap": 0
        },
        "mapbox": {
         "accesstoken": "pk.eyJ1IjoibWFzb3JlbnMiLCJhIjoiY2x0a3h3NDVmMThwczJrcDlwODYxanBtdiJ9.vfDz534ikVwiOQp4YLhc8Q",
         "center": {
          "lat": 33.7258,
          "lon": -121.52347
         },
         "domain": {
          "x": [
           0,
           1
          ],
          "y": [
           0,
           1
          ]
         },
         "style": "outdoors",
         "zoom": 4.5
        },
        "margin": {
         "b": 10,
         "l": 10,
         "pad": 3,
         "r": 10,
         "t": 10
        },
        "paper_bgcolor": "LightSteelBlue",
        "template": {
         "data": {
          "bar": [
           {
            "error_x": {
             "color": "#2a3f5f"
            },
            "error_y": {
             "color": "#2a3f5f"
            },
            "marker": {
             "line": {
              "color": "#E5ECF6",
              "width": 0.5
             },
             "pattern": {
              "fillmode": "overlay",
              "size": 10,
              "solidity": 0.2
             }
            },
            "type": "bar"
           }
          ],
          "barpolar": [
           {
            "marker": {
             "line": {
              "color": "#E5ECF6",
              "width": 0.5
             },
             "pattern": {
              "fillmode": "overlay",
              "size": 10,
              "solidity": 0.2
             }
            },
            "type": "barpolar"
           }
          ],
          "carpet": [
           {
            "aaxis": {
             "endlinecolor": "#2a3f5f",
             "gridcolor": "white",
             "linecolor": "white",
             "minorgridcolor": "white",
             "startlinecolor": "#2a3f5f"
            },
            "baxis": {
             "endlinecolor": "#2a3f5f",
             "gridcolor": "white",
             "linecolor": "white",
             "minorgridcolor": "white",
             "startlinecolor": "#2a3f5f"
            },
            "type": "carpet"
           }
          ],
          "choropleth": [
           {
            "colorbar": {
             "outlinewidth": 0,
             "ticks": ""
            },
            "type": "choropleth"
           }
          ],
          "contour": [
           {
            "colorbar": {
             "outlinewidth": 0,
             "ticks": ""
            },
            "colorscale": [
             [
              0,
              "#0d0887"
             ],
             [
              0.1111111111111111,
              "#46039f"
             ],
             [
              0.2222222222222222,
              "#7201a8"
             ],
             [
              0.3333333333333333,
              "#9c179e"
             ],
             [
              0.4444444444444444,
              "#bd3786"
             ],
             [
              0.5555555555555556,
              "#d8576b"
             ],
             [
              0.6666666666666666,
              "#ed7953"
             ],
             [
              0.7777777777777778,
              "#fb9f3a"
             ],
             [
              0.8888888888888888,
              "#fdca26"
             ],
             [
              1,
              "#f0f921"
             ]
            ],
            "type": "contour"
           }
          ],
          "contourcarpet": [
           {
            "colorbar": {
             "outlinewidth": 0,
             "ticks": ""
            },
            "type": "contourcarpet"
           }
          ],
          "heatmap": [
           {
            "colorbar": {
             "outlinewidth": 0,
             "ticks": ""
            },
            "colorscale": [
             [
              0,
              "#0d0887"
             ],
             [
              0.1111111111111111,
              "#46039f"
             ],
             [
              0.2222222222222222,
              "#7201a8"
             ],
             [
              0.3333333333333333,
              "#9c179e"
             ],
             [
              0.4444444444444444,
              "#bd3786"
             ],
             [
              0.5555555555555556,
              "#d8576b"
             ],
             [
              0.6666666666666666,
              "#ed7953"
             ],
             [
              0.7777777777777778,
              "#fb9f3a"
             ],
             [
              0.8888888888888888,
              "#fdca26"
             ],
             [
              1,
              "#f0f921"
             ]
            ],
            "type": "heatmap"
           }
          ],
          "heatmapgl": [
           {
            "colorbar": {
             "outlinewidth": 0,
             "ticks": ""
            },
            "colorscale": [
             [
              0,
              "#0d0887"
             ],
             [
              0.1111111111111111,
              "#46039f"
             ],
             [
              0.2222222222222222,
              "#7201a8"
             ],
             [
              0.3333333333333333,
              "#9c179e"
             ],
             [
              0.4444444444444444,
              "#bd3786"
             ],
             [
              0.5555555555555556,
              "#d8576b"
             ],
             [
              0.6666666666666666,
              "#ed7953"
             ],
             [
              0.7777777777777778,
              "#fb9f3a"
             ],
             [
              0.8888888888888888,
              "#fdca26"
             ],
             [
              1,
              "#f0f921"
             ]
            ],
            "type": "heatmapgl"
           }
          ],
          "histogram": [
           {
            "marker": {
             "pattern": {
              "fillmode": "overlay",
              "size": 10,
              "solidity": 0.2
             }
            },
            "type": "histogram"
           }
          ],
          "histogram2d": [
           {
            "colorbar": {
             "outlinewidth": 0,
             "ticks": ""
            },
            "colorscale": [
             [
              0,
              "#0d0887"
             ],
             [
              0.1111111111111111,
              "#46039f"
             ],
             [
              0.2222222222222222,
              "#7201a8"
             ],
             [
              0.3333333333333333,
              "#9c179e"
             ],
             [
              0.4444444444444444,
              "#bd3786"
             ],
             [
              0.5555555555555556,
              "#d8576b"
             ],
             [
              0.6666666666666666,
              "#ed7953"
             ],
             [
              0.7777777777777778,
              "#fb9f3a"
             ],
             [
              0.8888888888888888,
              "#fdca26"
             ],
             [
              1,
              "#f0f921"
             ]
            ],
            "type": "histogram2d"
           }
          ],
          "histogram2dcontour": [
           {
            "colorbar": {
             "outlinewidth": 0,
             "ticks": ""
            },
            "colorscale": [
             [
              0,
              "#0d0887"
             ],
             [
              0.1111111111111111,
              "#46039f"
             ],
             [
              0.2222222222222222,
              "#7201a8"
             ],
             [
              0.3333333333333333,
              "#9c179e"
             ],
             [
              0.4444444444444444,
              "#bd3786"
             ],
             [
              0.5555555555555556,
              "#d8576b"
             ],
             [
              0.6666666666666666,
              "#ed7953"
             ],
             [
              0.7777777777777778,
              "#fb9f3a"
             ],
             [
              0.8888888888888888,
              "#fdca26"
             ],
             [
              1,
              "#f0f921"
             ]
            ],
            "type": "histogram2dcontour"
           }
          ],
          "mesh3d": [
           {
            "colorbar": {
             "outlinewidth": 0,
             "ticks": ""
            },
            "type": "mesh3d"
           }
          ],
          "parcoords": [
           {
            "line": {
             "colorbar": {
              "outlinewidth": 0,
              "ticks": ""
             }
            },
            "type": "parcoords"
           }
          ],
          "pie": [
           {
            "automargin": true,
            "type": "pie"
           }
          ],
          "scatter": [
           {
            "fillpattern": {
             "fillmode": "overlay",
             "size": 10,
             "solidity": 0.2
            },
            "type": "scatter"
           }
          ],
          "scatter3d": [
           {
            "line": {
             "colorbar": {
              "outlinewidth": 0,
              "ticks": ""
             }
            },
            "marker": {
             "colorbar": {
              "outlinewidth": 0,
              "ticks": ""
             }
            },
            "type": "scatter3d"
           }
          ],
          "scattercarpet": [
           {
            "marker": {
             "colorbar": {
              "outlinewidth": 0,
              "ticks": ""
             }
            },
            "type": "scattercarpet"
           }
          ],
          "scattergeo": [
           {
            "marker": {
             "colorbar": {
              "outlinewidth": 0,
              "ticks": ""
             }
            },
            "type": "scattergeo"
           }
          ],
          "scattergl": [
           {
            "marker": {
             "colorbar": {
              "outlinewidth": 0,
              "ticks": ""
             }
            },
            "type": "scattergl"
           }
          ],
          "scattermapbox": [
           {
            "marker": {
             "colorbar": {
              "outlinewidth": 0,
              "ticks": ""
             }
            },
            "type": "scattermapbox"
           }
          ],
          "scatterpolar": [
           {
            "marker": {
             "colorbar": {
              "outlinewidth": 0,
              "ticks": ""
             }
            },
            "type": "scatterpolar"
           }
          ],
          "scatterpolargl": [
           {
            "marker": {
             "colorbar": {
              "outlinewidth": 0,
              "ticks": ""
             }
            },
            "type": "scatterpolargl"
           }
          ],
          "scatterternary": [
           {
            "marker": {
             "colorbar": {
              "outlinewidth": 0,
              "ticks": ""
             }
            },
            "type": "scatterternary"
           }
          ],
          "surface": [
           {
            "colorbar": {
             "outlinewidth": 0,
             "ticks": ""
            },
            "colorscale": [
             [
              0,
              "#0d0887"
             ],
             [
              0.1111111111111111,
              "#46039f"
             ],
             [
              0.2222222222222222,
              "#7201a8"
             ],
             [
              0.3333333333333333,
              "#9c179e"
             ],
             [
              0.4444444444444444,
              "#bd3786"
             ],
             [
              0.5555555555555556,
              "#d8576b"
             ],
             [
              0.6666666666666666,
              "#ed7953"
             ],
             [
              0.7777777777777778,
              "#fb9f3a"
             ],
             [
              0.8888888888888888,
              "#fdca26"
             ],
             [
              1,
              "#f0f921"
             ]
            ],
            "type": "surface"
           }
          ],
          "table": [
           {
            "cells": {
             "fill": {
              "color": "#EBF0F8"
             },
             "line": {
              "color": "white"
             }
            },
            "header": {
             "fill": {
              "color": "#C8D4E3"
             },
             "line": {
              "color": "white"
             }
            },
            "type": "table"
           }
          ]
         },
         "layout": {
          "annotationdefaults": {
           "arrowcolor": "#2a3f5f",
           "arrowhead": 0,
           "arrowwidth": 1
          },
          "autotypenumbers": "strict",
          "coloraxis": {
           "colorbar": {
            "outlinewidth": 0,
            "ticks": ""
           }
          },
          "colorscale": {
           "diverging": [
            [
             0,
             "#8e0152"
            ],
            [
             0.1,
             "#c51b7d"
            ],
            [
             0.2,
             "#de77ae"
            ],
            [
             0.3,
             "#f1b6da"
            ],
            [
             0.4,
             "#fde0ef"
            ],
            [
             0.5,
             "#f7f7f7"
            ],
            [
             0.6,
             "#e6f5d0"
            ],
            [
             0.7,
             "#b8e186"
            ],
            [
             0.8,
             "#7fbc41"
            ],
            [
             0.9,
             "#4d9221"
            ],
            [
             1,
             "#276419"
            ]
           ],
           "sequential": [
            [
             0,
             "#0d0887"
            ],
            [
             0.1111111111111111,
             "#46039f"
            ],
            [
             0.2222222222222222,
             "#7201a8"
            ],
            [
             0.3333333333333333,
             "#9c179e"
            ],
            [
             0.4444444444444444,
             "#bd3786"
            ],
            [
             0.5555555555555556,
             "#d8576b"
            ],
            [
             0.6666666666666666,
             "#ed7953"
            ],
            [
             0.7777777777777778,
             "#fb9f3a"
            ],
            [
             0.8888888888888888,
             "#fdca26"
            ],
            [
             1,
             "#f0f921"
            ]
           ],
           "sequentialminus": [
            [
             0,
             "#0d0887"
            ],
            [
             0.1111111111111111,
             "#46039f"
            ],
            [
             0.2222222222222222,
             "#7201a8"
            ],
            [
             0.3333333333333333,
             "#9c179e"
            ],
            [
             0.4444444444444444,
             "#bd3786"
            ],
            [
             0.5555555555555556,
             "#d8576b"
            ],
            [
             0.6666666666666666,
             "#ed7953"
            ],
            [
             0.7777777777777778,
             "#fb9f3a"
            ],
            [
             0.8888888888888888,
             "#fdca26"
            ],
            [
             1,
             "#f0f921"
            ]
           ]
          },
          "colorway": [
           "#636efa",
           "#EF553B",
           "#00cc96",
           "#ab63fa",
           "#FFA15A",
           "#19d3f3",
           "#FF6692",
           "#B6E880",
           "#FF97FF",
           "#FECB52"
          ],
          "font": {
           "color": "#2a3f5f"
          },
          "geo": {
           "bgcolor": "white",
           "lakecolor": "white",
           "landcolor": "#E5ECF6",
           "showlakes": true,
           "showland": true,
           "subunitcolor": "white"
          },
          "hoverlabel": {
           "align": "left"
          },
          "hovermode": "closest",
          "mapbox": {
           "style": "light"
          },
          "paper_bgcolor": "white",
          "plot_bgcolor": "#E5ECF6",
          "polar": {
           "angularaxis": {
            "gridcolor": "white",
            "linecolor": "white",
            "ticks": ""
           },
           "bgcolor": "#E5ECF6",
           "radialaxis": {
            "gridcolor": "white",
            "linecolor": "white",
            "ticks": ""
           }
          },
          "scene": {
           "xaxis": {
            "backgroundcolor": "#E5ECF6",
            "gridcolor": "white",
            "gridwidth": 2,
            "linecolor": "white",
            "showbackground": true,
            "ticks": "",
            "zerolinecolor": "white"
           },
           "yaxis": {
            "backgroundcolor": "#E5ECF6",
            "gridcolor": "white",
            "gridwidth": 2,
            "linecolor": "white",
            "showbackground": true,
            "ticks": "",
            "zerolinecolor": "white"
           },
           "zaxis": {
            "backgroundcolor": "#E5ECF6",
            "gridcolor": "white",
            "gridwidth": 2,
            "linecolor": "white",
            "showbackground": true,
            "ticks": "",
            "zerolinecolor": "white"
           }
          },
          "shapedefaults": {
           "line": {
            "color": "#2a3f5f"
           }
          },
          "ternary": {
           "aaxis": {
            "gridcolor": "white",
            "linecolor": "white",
            "ticks": ""
           },
           "baxis": {
            "gridcolor": "white",
            "linecolor": "white",
            "ticks": ""
           },
           "bgcolor": "#E5ECF6",
           "caxis": {
            "gridcolor": "white",
            "linecolor": "white",
            "ticks": ""
           }
          },
          "title": {
           "x": 0.05
          },
          "xaxis": {
           "automargin": true,
           "gridcolor": "white",
           "linecolor": "white",
           "ticks": "",
           "title": {
            "standoff": 15
           },
           "zerolinecolor": "white",
           "zerolinewidth": 2
          },
          "yaxis": {
           "automargin": true,
           "gridcolor": "white",
           "linecolor": "white",
           "ticks": "",
           "title": {
            "standoff": 15
           },
           "zerolinecolor": "white",
           "zerolinewidth": 2
          }
         }
        },
        "width": 600
       }
      },
      "text/html": [
       "<div>                            <div id=\"46fc00c7-24b8-441f-b5c6-b9b5f329c28d\" class=\"plotly-graph-div\" style=\"height:700px; width:600px;\"></div>            <script type=\"text/javascript\">                require([\"plotly\"], function(Plotly) {                    window.PLOTLYENV=window.PLOTLYENV || {};                                    if (document.getElementById(\"46fc00c7-24b8-441f-b5c6-b9b5f329c28d\")) {                    Plotly.newPlot(                        \"46fc00c7-24b8-441f-b5c6-b9b5f329c28d\",                        [{\"customdata\":[[\"060.0 060.0\",1],[\"060.0 070.0\",1],[\"060.0 080.0\",1],[\"063.3 052.0\",1],[\"063.3 055.0\",1],[\"063.3 060.0\",1],[\"063.3 070.0\",2],[\"063.3 080.0\",1],[\"063.3 090.0\",2],[\"066.7 055.0\",1],[\"066.7 060.0\",1],[\"066.7 080.0\",2],[\"066.7 090.0\",2],[\"070.0 051.0\",1],[\"070.0 080.0\",1],[\"070.0 090.0\",1],[\"073.3 070.0\",1],[\"073.3 080.0\",1],[\"073.3 090.0\",1],[\"076.7 049.0\",4],[\"076.7 051.0\",3],[\"076.7 055.0\",4],[\"076.7 060.0\",6],[\"076.7 070.0\",8],[\"076.7 080.0\",11],[\"076.7 090.0\",4],[\"076.7 100.0\",9],[\"080.0 051.0\",3],[\"080.0 055.0\",16],[\"080.0 060.0\",6],[\"080.0 070.0\",32],[\"080.0 080.0\",29],[\"080.0 090.0\",7],[\"080.0 100.0\",32],[\"081.8 046.9\",23],[\"083.3 042.0\",8],[\"083.3 051.0\",5],[\"083.3 055.0\",3],[\"083.3 060.0\",3],[\"083.3 070.0\",3],[\"083.3 080.0\",12],[\"083.3 090.0\",9],[\"083.3 100.0\",5],[\"083.3 110.0\",8],[\"086.7 033.0\",7],[\"086.7 035.0\",6],[\"086.7 040.0\",8],[\"086.7 045.0\",8],[\"086.7 050.0\",3],[\"086.7 055.0\",2],[\"086.7 060.0\",4],[\"086.7 070.0\",14],[\"086.7 080.0\",8],[\"086.7 090.0\",4],[\"086.7 100.0\",8],[\"086.7 110.0\",11],[\"090.0 028.0\",6],[\"090.0 030.0\",6],[\"090.0 035.0\",6],[\"090.0 037.0\",38],[\"090.0 045.0\",7],[\"090.0 053.0\",33],[\"090.0 060.0\",7],[\"090.0 070.0\",34],[\"090.0 080.0\",8],[\"090.0 090.0\",34],[\"090.0 100.0\",5],[\"090.0 110.0\",7],[\"090.0 120.0\",35],[\"093.3 026.7\",19],[\"093.3 030.0\",5],[\"093.3 035.0\",1],[\"093.3 040.0\",2],[\"093.3 045.0\",20],[\"093.3 050.0\",5],[\"093.3 055.0\",2],[\"093.3 060.0\",7],[\"093.3 070.0\",6],[\"093.3 080.0\",18],[\"093.3 090.0\",3],[\"093.3 100.0\",9],[\"093.3 110.0\",5],[\"093.3 120.0\",15]],\"hovertemplate\":\"\\u003cb\\u003e%{hovertext}\\u003c\\u002fb\\u003e\\u003cbr\\u003e\\u003cbr\\u003eLat_Dec=%{lat}\\u003cbr\\u003eLon_Dec=%{lon}\\u003cbr\\u003eNumber of Samples=%{customdata[1]}\\u003cbr\\u003eT_degC=%{marker.color}\\u003cextra\\u003e\\u003c\\u002fextra\\u003e\",\"hovertext\":[\"\\u003cb\\u003eStation: \\u003c\\u002fb\\u003e060.0 060.0\",\"\\u003cb\\u003eStation: \\u003c\\u002fb\\u003e060.0 070.0\",\"\\u003cb\\u003eStation: \\u003c\\u002fb\\u003e060.0 080.0\",\"\\u003cb\\u003eStation: \\u003c\\u002fb\\u003e063.3 052.0\",\"\\u003cb\\u003eStation: \\u003c\\u002fb\\u003e063.3 055.0\",\"\\u003cb\\u003eStation: \\u003c\\u002fb\\u003e063.3 060.0\",\"\\u003cb\\u003eStation: \\u003c\\u002fb\\u003e063.3 070.0\",\"\\u003cb\\u003eStation: \\u003c\\u002fb\\u003e063.3 080.0\",\"\\u003cb\\u003eStation: \\u003c\\u002fb\\u003e063.3 090.0\",\"\\u003cb\\u003eStation: \\u003c\\u002fb\\u003e066.7 055.0\",\"\\u003cb\\u003eStation: \\u003c\\u002fb\\u003e066.7 060.0\",\"\\u003cb\\u003eStation: \\u003c\\u002fb\\u003e066.7 080.0\",\"\\u003cb\\u003eStation: \\u003c\\u002fb\\u003e066.7 090.0\",\"\\u003cb\\u003eStation: \\u003c\\u002fb\\u003e070.0 051.0\",\"\\u003cb\\u003eStation: \\u003c\\u002fb\\u003e070.0 080.0\",\"\\u003cb\\u003eStation: \\u003c\\u002fb\\u003e070.0 090.0\",\"\\u003cb\\u003eStation: \\u003c\\u002fb\\u003e073.3 070.0\",\"\\u003cb\\u003eStation: \\u003c\\u002fb\\u003e073.3 080.0\",\"\\u003cb\\u003eStation: \\u003c\\u002fb\\u003e073.3 090.0\",\"\\u003cb\\u003eStation: \\u003c\\u002fb\\u003e076.7 049.0\",\"\\u003cb\\u003eStation: \\u003c\\u002fb\\u003e076.7 051.0\",\"\\u003cb\\u003eStation: \\u003c\\u002fb\\u003e076.7 055.0\",\"\\u003cb\\u003eStation: \\u003c\\u002fb\\u003e076.7 060.0\",\"\\u003cb\\u003eStation: \\u003c\\u002fb\\u003e076.7 070.0\",\"\\u003cb\\u003eStation: \\u003c\\u002fb\\u003e076.7 080.0\",\"\\u003cb\\u003eStation: \\u003c\\u002fb\\u003e076.7 090.0\",\"\\u003cb\\u003eStation: \\u003c\\u002fb\\u003e076.7 100.0\",\"\\u003cb\\u003eStation: \\u003c\\u002fb\\u003e080.0 051.0\",\"\\u003cb\\u003eStation: \\u003c\\u002fb\\u003e080.0 055.0\",\"\\u003cb\\u003eStation: \\u003c\\u002fb\\u003e080.0 060.0\",\"\\u003cb\\u003eStation: \\u003c\\u002fb\\u003e080.0 070.0\",\"\\u003cb\\u003eStation: \\u003c\\u002fb\\u003e080.0 080.0\",\"\\u003cb\\u003eStation: \\u003c\\u002fb\\u003e080.0 090.0\",\"\\u003cb\\u003eStation: \\u003c\\u002fb\\u003e080.0 100.0\",\"\\u003cb\\u003eStation: \\u003c\\u002fb\\u003e081.8 046.9\",\"\\u003cb\\u003eStation: \\u003c\\u002fb\\u003e083.3 042.0\",\"\\u003cb\\u003eStation: \\u003c\\u002fb\\u003e083.3 051.0\",\"\\u003cb\\u003eStation: \\u003c\\u002fb\\u003e083.3 055.0\",\"\\u003cb\\u003eStation: \\u003c\\u002fb\\u003e083.3 060.0\",\"\\u003cb\\u003eStation: \\u003c\\u002fb\\u003e083.3 070.0\",\"\\u003cb\\u003eStation: \\u003c\\u002fb\\u003e083.3 080.0\",\"\\u003cb\\u003eStation: \\u003c\\u002fb\\u003e083.3 090.0\",\"\\u003cb\\u003eStation: \\u003c\\u002fb\\u003e083.3 100.0\",\"\\u003cb\\u003eStation: \\u003c\\u002fb\\u003e083.3 110.0\",\"\\u003cb\\u003eStation: \\u003c\\u002fb\\u003e086.7 033.0\",\"\\u003cb\\u003eStation: \\u003c\\u002fb\\u003e086.7 035.0\",\"\\u003cb\\u003eStation: \\u003c\\u002fb\\u003e086.7 040.0\",\"\\u003cb\\u003eStation: \\u003c\\u002fb\\u003e086.7 045.0\",\"\\u003cb\\u003eStation: \\u003c\\u002fb\\u003e086.7 050.0\",\"\\u003cb\\u003eStation: \\u003c\\u002fb\\u003e086.7 055.0\",\"\\u003cb\\u003eStation: \\u003c\\u002fb\\u003e086.7 060.0\",\"\\u003cb\\u003eStation: \\u003c\\u002fb\\u003e086.7 070.0\",\"\\u003cb\\u003eStation: \\u003c\\u002fb\\u003e086.7 080.0\",\"\\u003cb\\u003eStation: \\u003c\\u002fb\\u003e086.7 090.0\",\"\\u003cb\\u003eStation: \\u003c\\u002fb\\u003e086.7 100.0\",\"\\u003cb\\u003eStation: \\u003c\\u002fb\\u003e086.7 110.0\",\"\\u003cb\\u003eStation: \\u003c\\u002fb\\u003e090.0 028.0\",\"\\u003cb\\u003eStation: \\u003c\\u002fb\\u003e090.0 030.0\",\"\\u003cb\\u003eStation: \\u003c\\u002fb\\u003e090.0 035.0\",\"\\u003cb\\u003eStation: \\u003c\\u002fb\\u003e090.0 037.0\",\"\\u003cb\\u003eStation: \\u003c\\u002fb\\u003e090.0 045.0\",\"\\u003cb\\u003eStation: \\u003c\\u002fb\\u003e090.0 053.0\",\"\\u003cb\\u003eStation: \\u003c\\u002fb\\u003e090.0 060.0\",\"\\u003cb\\u003eStation: \\u003c\\u002fb\\u003e090.0 070.0\",\"\\u003cb\\u003eStation: \\u003c\\u002fb\\u003e090.0 080.0\",\"\\u003cb\\u003eStation: \\u003c\\u002fb\\u003e090.0 090.0\",\"\\u003cb\\u003eStation: \\u003c\\u002fb\\u003e090.0 100.0\",\"\\u003cb\\u003eStation: \\u003c\\u002fb\\u003e090.0 110.0\",\"\\u003cb\\u003eStation: \\u003c\\u002fb\\u003e090.0 120.0\",\"\\u003cb\\u003eStation: \\u003c\\u002fb\\u003e093.3 026.7\",\"\\u003cb\\u003eStation: \\u003c\\u002fb\\u003e093.3 030.0\",\"\\u003cb\\u003eStation: \\u003c\\u002fb\\u003e093.3 035.0\",\"\\u003cb\\u003eStation: \\u003c\\u002fb\\u003e093.3 040.0\",\"\\u003cb\\u003eStation: \\u003c\\u002fb\\u003e093.3 045.0\",\"\\u003cb\\u003eStation: \\u003c\\u002fb\\u003e093.3 050.0\",\"\\u003cb\\u003eStation: \\u003c\\u002fb\\u003e093.3 055.0\",\"\\u003cb\\u003eStation: \\u003c\\u002fb\\u003e093.3 060.0\",\"\\u003cb\\u003eStation: \\u003c\\u002fb\\u003e093.3 070.0\",\"\\u003cb\\u003eStation: \\u003c\\u002fb\\u003e093.3 080.0\",\"\\u003cb\\u003eStation: \\u003c\\u002fb\\u003e093.3 090.0\",\"\\u003cb\\u003eStation: \\u003c\\u002fb\\u003e093.3 100.0\",\"\\u003cb\\u003eStation: \\u003c\\u002fb\\u003e093.3 110.0\",\"\\u003cb\\u003eStation: \\u003c\\u002fb\\u003e093.3 120.0\"],\"lat\":[37.60908,37.27973,36.94582,37.31993,37.20998,37.04173,36.705,36.37498,36.04242,36.61883,36.4525,35.78542,35.44867,36.18117,35.2147,34.87718,34.97738,34.64067,34.31028,35.08607,35.0221,34.88717,34.71997,34.38418,34.0485,33.72058,33.3808,34.44992,34.31257,34.14697,33.81027,33.4759,33.14367,32.811,34.27143,34.17522,33.87432,33.744,33.57428,33.23898,32.90838,32.57438,32.24312,31.90733,33.88892,33.82032,33.64858,33.48132,33.32057,33.15653,32.98242,32.6506,32.319,31.98983,31.64458,31.32062,33.48133,33.41742,33.24993,33.1795,32.90982,32.6425,32.41513,32.07948,31.7482,31.4021,31.079,30.74807,30.41082,32.95213,32.84282,32.68398,32.51317,32.33428,32.1789,32.01298,31.84382,31.51038,31.16067,30.8462,30.5091,30.17322,29.84252],\"legendgroup\":\"\",\"lon\":[-123.6015,-124.3289,-125.04617,-122.6046,-122.83407,-123.1966,-123.913,-124.62468,-125.33708,-122.41537,-122.7717,-124.19728,-124.90163,-121.72883,-123.7805,-124.4812,-122.66897,-123.35943,-124.05777,-120.7773,-120.91707,-121.20517,-121.56052,-122.25687,-122.96417,-123.64553,-124.32503,-120.52917,-120.81968,-121.15517,-121.85232,-122.5455,-123.22168,-123.91157,-120.03217,-119.51288,-120.14168,-120.43882,-120.75783,-121.44733,-122.1368,-122.81682,-123.49443,-124.174,-118.49767,-118.6336,-118.97767,-119.34308,-119.66557,-120.00682,-120.36013,-121.04332,-121.73482,-122.39353,-123.07368,-123.74557,-117.77987,-117.90597,-118.25283,-118.39332,-118.93932,-119.48572,-119.96358,-120.65957,-121.31732,-121.99662,-122.66067,-123.337,-124.003,-117.30912,-117.5342,-117.87083,-118.21418,-118.56332,-118.89342,-119.23293,-119.58017,-120.25123,-120.948,-121.59112,-122.26523,-122.92037,-123.59717],\"marker\":{\"color\":[12.56099987,12.91600037,13.78100014,11.40100002,12.23999977,12.7670002,12.853999609999999,12.40600014,13.41100025,11.82999992,12.86400032,13.607999804999999,14.047999860000001,10.41100025,13.93400002,12.99800014,11.44499969,12.78800011,13.09799957,14.691999915,13.158333143333335,13.70900035,13.86433347,14.44787490375,13.566777652222221,13.0882501625,14.521444637777778,13.325000443333332,13.94681250875,14.78666671,14.363156169375,14.41027588724138,13.648999895714285,14.533968686875,14.080391095652173,14.9578751325,13.650399782,13.989999769999999,14.238666853333333,13.48400021,13.873749892500001,15.053222337777779,15.456200028000001,14.6766251325,14.621428625714286,14.69279995,14.39824986375,13.8635001175,15.858999883333333,13.260000224999999,14.8207499975,14.078214441428571,14.54587495375,14.376250030000001,14.15550005375,14.698909413636363,14.679833413333334,14.640833061666667,14.008833410000001,14.195526349736841,14.519999912857143,15.04293930121212,15.290428435714286,14.553499978235294,14.557375072500001,14.506272634545455,14.700999834000001,13.963285855714286,14.850285583714285,14.496579020526314,14.732800104,14.81499958,14.557499884999999,14.8171000485,14.348199843999998,13.60200024,13.864999769999999,15.681166808333332,14.737000095,13.182333309999999,14.620222197777776,14.463999942000001,14.567400106000001],\"coloraxis\":\"coloraxis\"},\"mode\":\"markers\",\"name\":\"\",\"showlegend\":false,\"subplot\":\"mapbox\",\"type\":\"scattermapbox\"}],                        {\"template\":{\"data\":{\"histogram2dcontour\":[{\"type\":\"histogram2dcontour\",\"colorbar\":{\"outlinewidth\":0,\"ticks\":\"\"},\"colorscale\":[[0.0,\"#0d0887\"],[0.1111111111111111,\"#46039f\"],[0.2222222222222222,\"#7201a8\"],[0.3333333333333333,\"#9c179e\"],[0.4444444444444444,\"#bd3786\"],[0.5555555555555556,\"#d8576b\"],[0.6666666666666666,\"#ed7953\"],[0.7777777777777778,\"#fb9f3a\"],[0.8888888888888888,\"#fdca26\"],[1.0,\"#f0f921\"]]}],\"choropleth\":[{\"type\":\"choropleth\",\"colorbar\":{\"outlinewidth\":0,\"ticks\":\"\"}}],\"histogram2d\":[{\"type\":\"histogram2d\",\"colorbar\":{\"outlinewidth\":0,\"ticks\":\"\"},\"colorscale\":[[0.0,\"#0d0887\"],[0.1111111111111111,\"#46039f\"],[0.2222222222222222,\"#7201a8\"],[0.3333333333333333,\"#9c179e\"],[0.4444444444444444,\"#bd3786\"],[0.5555555555555556,\"#d8576b\"],[0.6666666666666666,\"#ed7953\"],[0.7777777777777778,\"#fb9f3a\"],[0.8888888888888888,\"#fdca26\"],[1.0,\"#f0f921\"]]}],\"heatmap\":[{\"type\":\"heatmap\",\"colorbar\":{\"outlinewidth\":0,\"ticks\":\"\"},\"colorscale\":[[0.0,\"#0d0887\"],[0.1111111111111111,\"#46039f\"],[0.2222222222222222,\"#7201a8\"],[0.3333333333333333,\"#9c179e\"],[0.4444444444444444,\"#bd3786\"],[0.5555555555555556,\"#d8576b\"],[0.6666666666666666,\"#ed7953\"],[0.7777777777777778,\"#fb9f3a\"],[0.8888888888888888,\"#fdca26\"],[1.0,\"#f0f921\"]]}],\"heatmapgl\":[{\"type\":\"heatmapgl\",\"colorbar\":{\"outlinewidth\":0,\"ticks\":\"\"},\"colorscale\":[[0.0,\"#0d0887\"],[0.1111111111111111,\"#46039f\"],[0.2222222222222222,\"#7201a8\"],[0.3333333333333333,\"#9c179e\"],[0.4444444444444444,\"#bd3786\"],[0.5555555555555556,\"#d8576b\"],[0.6666666666666666,\"#ed7953\"],[0.7777777777777778,\"#fb9f3a\"],[0.8888888888888888,\"#fdca26\"],[1.0,\"#f0f921\"]]}],\"contourcarpet\":[{\"type\":\"contourcarpet\",\"colorbar\":{\"outlinewidth\":0,\"ticks\":\"\"}}],\"contour\":[{\"type\":\"contour\",\"colorbar\":{\"outlinewidth\":0,\"ticks\":\"\"},\"colorscale\":[[0.0,\"#0d0887\"],[0.1111111111111111,\"#46039f\"],[0.2222222222222222,\"#7201a8\"],[0.3333333333333333,\"#9c179e\"],[0.4444444444444444,\"#bd3786\"],[0.5555555555555556,\"#d8576b\"],[0.6666666666666666,\"#ed7953\"],[0.7777777777777778,\"#fb9f3a\"],[0.8888888888888888,\"#fdca26\"],[1.0,\"#f0f921\"]]}],\"surface\":[{\"type\":\"surface\",\"colorbar\":{\"outlinewidth\":0,\"ticks\":\"\"},\"colorscale\":[[0.0,\"#0d0887\"],[0.1111111111111111,\"#46039f\"],[0.2222222222222222,\"#7201a8\"],[0.3333333333333333,\"#9c179e\"],[0.4444444444444444,\"#bd3786\"],[0.5555555555555556,\"#d8576b\"],[0.6666666666666666,\"#ed7953\"],[0.7777777777777778,\"#fb9f3a\"],[0.8888888888888888,\"#fdca26\"],[1.0,\"#f0f921\"]]}],\"mesh3d\":[{\"type\":\"mesh3d\",\"colorbar\":{\"outlinewidth\":0,\"ticks\":\"\"}}],\"scatter\":[{\"fillpattern\":{\"fillmode\":\"overlay\",\"size\":10,\"solidity\":0.2},\"type\":\"scatter\"}],\"parcoords\":[{\"type\":\"parcoords\",\"line\":{\"colorbar\":{\"outlinewidth\":0,\"ticks\":\"\"}}}],\"scatterpolargl\":[{\"type\":\"scatterpolargl\",\"marker\":{\"colorbar\":{\"outlinewidth\":0,\"ticks\":\"\"}}}],\"bar\":[{\"error_x\":{\"color\":\"#2a3f5f\"},\"error_y\":{\"color\":\"#2a3f5f\"},\"marker\":{\"line\":{\"color\":\"#E5ECF6\",\"width\":0.5},\"pattern\":{\"fillmode\":\"overlay\",\"size\":10,\"solidity\":0.2}},\"type\":\"bar\"}],\"scattergeo\":[{\"type\":\"scattergeo\",\"marker\":{\"colorbar\":{\"outlinewidth\":0,\"ticks\":\"\"}}}],\"scatterpolar\":[{\"type\":\"scatterpolar\",\"marker\":{\"colorbar\":{\"outlinewidth\":0,\"ticks\":\"\"}}}],\"histogram\":[{\"marker\":{\"pattern\":{\"fillmode\":\"overlay\",\"size\":10,\"solidity\":0.2}},\"type\":\"histogram\"}],\"scattergl\":[{\"type\":\"scattergl\",\"marker\":{\"colorbar\":{\"outlinewidth\":0,\"ticks\":\"\"}}}],\"scatter3d\":[{\"type\":\"scatter3d\",\"line\":{\"colorbar\":{\"outlinewidth\":0,\"ticks\":\"\"}},\"marker\":{\"colorbar\":{\"outlinewidth\":0,\"ticks\":\"\"}}}],\"scattermapbox\":[{\"type\":\"scattermapbox\",\"marker\":{\"colorbar\":{\"outlinewidth\":0,\"ticks\":\"\"}}}],\"scatterternary\":[{\"type\":\"scatterternary\",\"marker\":{\"colorbar\":{\"outlinewidth\":0,\"ticks\":\"\"}}}],\"scattercarpet\":[{\"type\":\"scattercarpet\",\"marker\":{\"colorbar\":{\"outlinewidth\":0,\"ticks\":\"\"}}}],\"carpet\":[{\"aaxis\":{\"endlinecolor\":\"#2a3f5f\",\"gridcolor\":\"white\",\"linecolor\":\"white\",\"minorgridcolor\":\"white\",\"startlinecolor\":\"#2a3f5f\"},\"baxis\":{\"endlinecolor\":\"#2a3f5f\",\"gridcolor\":\"white\",\"linecolor\":\"white\",\"minorgridcolor\":\"white\",\"startlinecolor\":\"#2a3f5f\"},\"type\":\"carpet\"}],\"table\":[{\"cells\":{\"fill\":{\"color\":\"#EBF0F8\"},\"line\":{\"color\":\"white\"}},\"header\":{\"fill\":{\"color\":\"#C8D4E3\"},\"line\":{\"color\":\"white\"}},\"type\":\"table\"}],\"barpolar\":[{\"marker\":{\"line\":{\"color\":\"#E5ECF6\",\"width\":0.5},\"pattern\":{\"fillmode\":\"overlay\",\"size\":10,\"solidity\":0.2}},\"type\":\"barpolar\"}],\"pie\":[{\"automargin\":true,\"type\":\"pie\"}]},\"layout\":{\"autotypenumbers\":\"strict\",\"colorway\":[\"#636efa\",\"#EF553B\",\"#00cc96\",\"#ab63fa\",\"#FFA15A\",\"#19d3f3\",\"#FF6692\",\"#B6E880\",\"#FF97FF\",\"#FECB52\"],\"font\":{\"color\":\"#2a3f5f\"},\"hovermode\":\"closest\",\"hoverlabel\":{\"align\":\"left\"},\"paper_bgcolor\":\"white\",\"plot_bgcolor\":\"#E5ECF6\",\"polar\":{\"bgcolor\":\"#E5ECF6\",\"angularaxis\":{\"gridcolor\":\"white\",\"linecolor\":\"white\",\"ticks\":\"\"},\"radialaxis\":{\"gridcolor\":\"white\",\"linecolor\":\"white\",\"ticks\":\"\"}},\"ternary\":{\"bgcolor\":\"#E5ECF6\",\"aaxis\":{\"gridcolor\":\"white\",\"linecolor\":\"white\",\"ticks\":\"\"},\"baxis\":{\"gridcolor\":\"white\",\"linecolor\":\"white\",\"ticks\":\"\"},\"caxis\":{\"gridcolor\":\"white\",\"linecolor\":\"white\",\"ticks\":\"\"}},\"coloraxis\":{\"colorbar\":{\"outlinewidth\":0,\"ticks\":\"\"}},\"colorscale\":{\"sequential\":[[0.0,\"#0d0887\"],[0.1111111111111111,\"#46039f\"],[0.2222222222222222,\"#7201a8\"],[0.3333333333333333,\"#9c179e\"],[0.4444444444444444,\"#bd3786\"],[0.5555555555555556,\"#d8576b\"],[0.6666666666666666,\"#ed7953\"],[0.7777777777777778,\"#fb9f3a\"],[0.8888888888888888,\"#fdca26\"],[1.0,\"#f0f921\"]],\"sequentialminus\":[[0.0,\"#0d0887\"],[0.1111111111111111,\"#46039f\"],[0.2222222222222222,\"#7201a8\"],[0.3333333333333333,\"#9c179e\"],[0.4444444444444444,\"#bd3786\"],[0.5555555555555556,\"#d8576b\"],[0.6666666666666666,\"#ed7953\"],[0.7777777777777778,\"#fb9f3a\"],[0.8888888888888888,\"#fdca26\"],[1.0,\"#f0f921\"]],\"diverging\":[[0,\"#8e0152\"],[0.1,\"#c51b7d\"],[0.2,\"#de77ae\"],[0.3,\"#f1b6da\"],[0.4,\"#fde0ef\"],[0.5,\"#f7f7f7\"],[0.6,\"#e6f5d0\"],[0.7,\"#b8e186\"],[0.8,\"#7fbc41\"],[0.9,\"#4d9221\"],[1,\"#276419\"]]},\"xaxis\":{\"gridcolor\":\"white\",\"linecolor\":\"white\",\"ticks\":\"\",\"title\":{\"standoff\":15},\"zerolinecolor\":\"white\",\"automargin\":true,\"zerolinewidth\":2},\"yaxis\":{\"gridcolor\":\"white\",\"linecolor\":\"white\",\"ticks\":\"\",\"title\":{\"standoff\":15},\"zerolinecolor\":\"white\",\"automargin\":true,\"zerolinewidth\":2},\"scene\":{\"xaxis\":{\"backgroundcolor\":\"#E5ECF6\",\"gridcolor\":\"white\",\"linecolor\":\"white\",\"showbackground\":true,\"ticks\":\"\",\"zerolinecolor\":\"white\",\"gridwidth\":2},\"yaxis\":{\"backgroundcolor\":\"#E5ECF6\",\"gridcolor\":\"white\",\"linecolor\":\"white\",\"showbackground\":true,\"ticks\":\"\",\"zerolinecolor\":\"white\",\"gridwidth\":2},\"zaxis\":{\"backgroundcolor\":\"#E5ECF6\",\"gridcolor\":\"white\",\"linecolor\":\"white\",\"showbackground\":true,\"ticks\":\"\",\"zerolinecolor\":\"white\",\"gridwidth\":2}},\"shapedefaults\":{\"line\":{\"color\":\"#2a3f5f\"}},\"annotationdefaults\":{\"arrowcolor\":\"#2a3f5f\",\"arrowhead\":0,\"arrowwidth\":1},\"geo\":{\"bgcolor\":\"white\",\"landcolor\":\"#E5ECF6\",\"subunitcolor\":\"white\",\"showland\":true,\"showlakes\":true,\"lakecolor\":\"white\"},\"title\":{\"x\":0.05},\"mapbox\":{\"style\":\"light\"}}},\"mapbox\":{\"domain\":{\"x\":[0.0,1.0],\"y\":[0.0,1.0]},\"center\":{\"lat\":33.7258,\"lon\":-121.52347},\"accesstoken\":\"pk.eyJ1IjoibWFzb3JlbnMiLCJhIjoiY2x0a3h3NDVmMThwczJrcDlwODYxanBtdiJ9.vfDz534ikVwiOQp4YLhc8Q\",\"zoom\":4.5,\"style\":\"outdoors\"},\"coloraxis\":{\"colorbar\":{\"title\":{\"text\":\"T_degC\"}},\"colorscale\":[[0.0,\"#440154\"],[0.1111111111111111,\"#482878\"],[0.2222222222222222,\"#3e4989\"],[0.3333333333333333,\"#31688e\"],[0.4444444444444444,\"#26828e\"],[0.5555555555555556,\"#1f9e89\"],[0.6666666666666666,\"#35b779\"],[0.7777777777777778,\"#6ece58\"],[0.8888888888888888,\"#b5de2b\"],[1.0,\"#fde725\"]]},\"legend\":{\"tracegroupgap\":0},\"margin\":{\"t\":10,\"l\":10,\"r\":10,\"b\":10,\"pad\":3},\"height\":700,\"width\":600,\"autosize\":true,\"paper_bgcolor\":\"LightSteelBlue\"},                        {\"responsive\": true}                    ).then(function(){\n",
       "                            \n",
       "var gd = document.getElementById('46fc00c7-24b8-441f-b5c6-b9b5f329c28d');\n",
       "var x = new MutationObserver(function (mutations, observer) {{\n",
       "        var display = window.getComputedStyle(gd).display;\n",
       "        if (!display || display === 'none') {{\n",
       "            console.log([gd, 'removed!']);\n",
       "            Plotly.purge(gd);\n",
       "            observer.disconnect();\n",
       "        }}\n",
       "}});\n",
       "\n",
       "// Listen for the removal of the full notebook cells\n",
       "var notebookContainer = gd.closest('#notebook-container');\n",
       "if (notebookContainer) {{\n",
       "    x.observe(notebookContainer, {childList: true});\n",
       "}}\n",
       "\n",
       "// Listen for the clearing of the current output cell\n",
       "var outputEl = gd.closest('.output');\n",
       "if (outputEl) {{\n",
       "    x.observe(outputEl, {childList: true});\n",
       "}}\n",
       "\n",
       "                        })                };                });            </script>        </div>"
      ]
     },
     "metadata": {},
     "output_type": "display_data"
    }
   ],
   "source": [
    "map_figs['DCM']['T_degC'].update_layout(\n",
    "    autosize=True,\n",
    "    margin=dict(l=10,r=10,b=10,t=10,pad=3),\n",
    "    paper_bgcolor=\"LightSteelBlue\",\n",
    ")\n",
    "map_figs['DCM']['T_degC'].show()"
   ]
  }
 ],
 "metadata": {
  "kernelspec": {
   "display_name": "Python 3 (ipykernel)",
   "language": "python",
   "name": "python3"
  },
  "language_info": {
   "codemirror_mode": {
    "name": "ipython",
    "version": 3
   },
   "file_extension": ".py",
   "mimetype": "text/x-python",
   "name": "python",
   "nbconvert_exporter": "python",
   "pygments_lexer": "ipython3",
   "version": "3.10.9"
  },
  "varInspector": {
   "cols": {
    "lenName": 16,
    "lenType": 16,
    "lenVar": 40
   },
   "kernels_config": {
    "python": {
     "delete_cmd_postfix": "",
     "delete_cmd_prefix": "del ",
     "library": "var_list.py",
     "varRefreshCmd": "print(var_dic_list())"
    },
    "r": {
     "delete_cmd_postfix": ") ",
     "delete_cmd_prefix": "rm(",
     "library": "var_list.r",
     "varRefreshCmd": "cat(var_dic_list()) "
    }
   },
   "types_to_exclude": [
    "module",
    "function",
    "builtin_function_or_method",
    "instance",
    "_Feature"
   ],
   "window_display": false
  }
 },
 "nbformat": 4,
 "nbformat_minor": 4
}
